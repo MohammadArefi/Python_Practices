{
 "cells": [
  {
   "cell_type": "code",
   "execution_count": 16,
   "metadata": {},
   "outputs": [
    {
     "data": {
      "text/html": [
       "\n",
       "        <iframe\n",
       "            width=\"1100\"\n",
       "            height=\"900\"\n",
       "            src=\"1.jpg\"\n",
       "            frameborder=\"0\"\n",
       "            allowfullscreen\n",
       "        ></iframe>\n",
       "        "
      ],
      "text/plain": [
       "<IPython.lib.display.IFrame at 0x17e767c0d68>"
      ]
     },
     "execution_count": 16,
     "metadata": {},
     "output_type": "execute_result"
    }
   ],
   "source": [
    "from IPython.display import IFrame\n",
    "IFrame('1.jpg',1100,900)"
   ]
  },
  {
   "cell_type": "markdown",
   "metadata": {},
   "source": [
    "# Q1:"
   ]
  },
  {
   "cell_type": "code",
   "execution_count": 17,
   "metadata": {},
   "outputs": [
    {
     "name": "stdout",
     "output_type": "stream",
     "text": [
      "0\n",
      "7\n",
      "14\n",
      "21\n",
      "28\n",
      "35\n",
      "42\n",
      "49\n",
      "56\n",
      "63\n",
      "70\n",
      "77\n",
      "84\n",
      "91\n",
      "98\n"
     ]
    }
   ],
   "source": [
    "for i in range(100):\n",
    "    if i%7==0:\n",
    "        print(i)"
   ]
  },
  {
   "cell_type": "markdown",
   "metadata": {},
   "source": [
    "# Q2:"
   ]
  },
  {
   "cell_type": "code",
   "execution_count": 18,
   "metadata": {},
   "outputs": [
    {
     "name": "stdout",
     "output_type": "stream",
     "text": [
      "Niloofar welcome!\n",
      "Mohammad welcome!\n",
      "Sara welcome!\n",
      "Negar welcome!\n",
      "Ali welcome!\n"
     ]
    }
   ],
   "source": [
    "for name in ['Niloofar', 'Mohammad', 'Sara', 'Negar', 'Ali']:\n",
    "    print(name, 'welcome!')"
   ]
  },
  {
   "cell_type": "code",
   "execution_count": 21,
   "metadata": {},
   "outputs": [
    {
     "name": "stdout",
     "output_type": "stream",
     "text": [
      "welcome and best regards, Niloofar!\n",
      "We wish you a good day Niloofar\n",
      "welcome and best regards, Mohammad!\n",
      "We wish you a good day Mohammad\n",
      "welcome and best regards, Sara!\n",
      "We wish you a good day Sara\n",
      "welcome and best regards, Negar!\n",
      "We wish you a good day Negar\n",
      "welcome and best regards, Ali!\n",
      "We wish you a good day Ali\n"
     ]
    }
   ],
   "source": [
    "def message(name):\n",
    "    print('welcome and best regards, %s!'%name)\n",
    "    print('We wish you a good day {}'.format(name))\n",
    " \n",
    "for n in ['Niloofar', 'Mohammad', 'Sara', 'Negar', 'Ali']:\n",
    "    message(n)\n",
    "          "
   ]
  },
  {
   "cell_type": "markdown",
   "metadata": {},
   "source": [
    "# Q3:"
   ]
  },
  {
   "cell_type": "code",
   "execution_count": 22,
   "metadata": {},
   "outputs": [],
   "source": [
    "def factorial(n):\n",
    "    temp = 1\n",
    "    for i in range(1,n+1):\n",
    "        temp *=  i\n",
    "    return temp"
   ]
  },
  {
   "cell_type": "code",
   "execution_count": 23,
   "metadata": {},
   "outputs": [
    {
     "data": {
      "text/plain": [
       "1"
      ]
     },
     "execution_count": 23,
     "metadata": {},
     "output_type": "execute_result"
    }
   ],
   "source": [
    "factorial(1)"
   ]
  },
  {
   "cell_type": "code",
   "execution_count": 24,
   "metadata": {},
   "outputs": [
    {
     "name": "stdout",
     "output_type": "stream",
     "text": [
      "6\n",
      "120\n",
      "5040\n"
     ]
    }
   ],
   "source": [
    "print(factorial(3))\n",
    "print(factorial(5))\n",
    "print(factorial(7))"
   ]
  },
  {
   "cell_type": "markdown",
   "metadata": {},
   "source": [
    "# Q4:\n",
    "this exercise will be in spyder but the codes are:"
   ]
  },
  {
   "cell_type": "markdown",
   "metadata": {},
   "source": [
    "q3: draw poly"
   ]
  },
  {
   "cell_type": "code",
   "execution_count": null,
   "metadata": {},
   "outputs": [],
   "source": [
    "import turtle\n",
    "import time\n",
    "\n",
    "def draw_poly(t, n, sz):\n",
    "    \"\"\"Make turtle t draw a multi-colour square of sz.\"\"\"\n",
    "    t.penup()\n",
    "    t.goto(-sz, -sz)\n",
    "    t.pendown()\n",
    "    \n",
    "    for i in range(n):\n",
    "        t.forward(sz)\n",
    "        t.left(360/n)\n",
    "        \n",
    "        \n",
    "wn = turtle.Screen() # Set up the window and its attributes\n",
    "wn.bgcolor(\"lightgreen\")\n",
    "time.sleep(2)\n",
    "\n",
    "tess = turtle.Turtle() # create tess and set some attributes\n",
    "tess.pensize(3)\n",
    "size = 100 # size of the smallest square\n",
    "\n",
    "draw_poly(tess, 8, size)\n",
    "\n",
    "time.sleep(5)\n",
    "turtle.bye()"
   ]
  },
  {
   "cell_type": "markdown",
   "metadata": {},
   "source": [
    "q4: pattern"
   ]
  },
  {
   "cell_type": "code",
   "execution_count": null,
   "metadata": {},
   "outputs": [],
   "source": [
    "import turtle\n",
    "import time\n",
    "\n",
    "def squares(t, sz, angle):\n",
    "    \"\"\"Make turtle t draw a square of sz.\"\"\"\n",
    "    countdegree = 0\n",
    "    \n",
    "    while countdegree<360:\n",
    "        for i in range(4):\n",
    "            t.forward(sz)\n",
    "            t.left(90)\n",
    "        t.left(angle)\n",
    "        countdegree+=angle\n",
    "        \n",
    "        \n",
    "wn = turtle.Screen() # Set up the window and its attributes\n",
    "wn.bgcolor(\"purple\")\n",
    "\n",
    "time.sleep(2)\n",
    "\n",
    "tess = turtle.Turtle() # create tess and set some attributes\n",
    "tess.pensize(3)\n",
    "size = 60 # size of the smallest square\n",
    "angle = 30\n",
    "\n",
    "squares(tess, size, angle)\n",
    "\n",
    "time.sleep(5)\n",
    "turtle.bye()"
   ]
  },
  {
   "cell_type": "markdown",
   "metadata": {},
   "source": [
    "q9: start"
   ]
  },
  {
   "cell_type": "code",
   "execution_count": null,
   "metadata": {},
   "outputs": [],
   "source": [
    "import turtle\n",
    "import time\n",
    "\n",
    "def star(t, sz):\n",
    "    for i in range(5):\n",
    "        t.forward(sz)\n",
    "        t.left(144)\n",
    "    \n",
    "    \n",
    "wn = turtle.Screen() # Set up the window and its attributes\n",
    "wn.bgcolor(\"purple\")\n",
    "\n",
    "time.sleep(2)\n",
    "\n",
    "tess = turtle.Turtle()\n",
    "tess.pensize(3)\n",
    "size = 100 \n",
    "\n",
    "squares(tess, size, angle)\n",
    "\n",
    "time.sleep(5)\n",
    "turtle.bye()"
   ]
  },
  {
   "cell_type": "markdown",
   "metadata": {},
   "source": [
    "# Q5:"
   ]
  },
  {
   "cell_type": "code",
   "execution_count": 26,
   "metadata": {},
   "outputs": [
    {
     "data": {
      "text/plain": [
       "506"
      ]
     },
     "execution_count": 26,
     "metadata": {},
     "output_type": "execute_result"
    }
   ],
   "source": [
    "def y(N):\n",
    "    temp = 0\n",
    "    for n in range(N+1):\n",
    "        temp += n*n\n",
    "    return temp\n",
    "\n",
    "y(11)"
   ]
  },
  {
   "cell_type": "markdown",
   "metadata": {},
   "source": [
    "# Q6:"
   ]
  },
  {
   "cell_type": "code",
   "execution_count": 27,
   "metadata": {},
   "outputs": [
    {
     "data": {
      "text/plain": [
       "94.81262248236033"
      ]
     },
     "execution_count": 27,
     "metadata": {},
     "output_type": "execute_result"
    }
   ],
   "source": [
    "def y(N):\n",
    "    temp = 0\n",
    "    for n in range(N+1):\n",
    "        temp += n/(n+1)\n",
    "    return temp\n",
    "\n",
    "y(99)"
   ]
  },
  {
   "cell_type": "code",
   "execution_count": null,
   "metadata": {},
   "outputs": [],
   "source": []
  }
 ],
 "metadata": {
  "kernelspec": {
   "display_name": "Python 3",
   "language": "python",
   "name": "python3"
  },
  "language_info": {
   "codemirror_mode": {
    "name": "ipython",
    "version": 3
   },
   "file_extension": ".py",
   "mimetype": "text/x-python",
   "name": "python",
   "nbconvert_exporter": "python",
   "pygments_lexer": "ipython3",
   "version": "3.7.3"
  }
 },
 "nbformat": 4,
 "nbformat_minor": 2
}
