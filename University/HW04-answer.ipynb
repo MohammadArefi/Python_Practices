{
 "cells": [
  {
   "cell_type": "markdown",
   "metadata": {},
   "source": [
    "# Q1:"
   ]
  },
  {
   "cell_type": "code",
   "execution_count": 1,
   "metadata": {},
   "outputs": [
    {
     "name": "stdout",
     "output_type": "stream",
     "text": [
      "enter name: reza\n",
      "enter gender number (0 for male and 1 for female) : 0\n",
      "enter the year of birth: 1381\n",
      "enter the score of math: 19.5\n",
      "enter the score of physics: 17\n",
      "enter the score of history: 18.75\n",
      "output is : \n",
      "reza 0 1381 {'math': 19.5, 'physics': 17.0, 'history': 18.75}\n",
      "---------------\n",
      "if you wnat to end write ' end', else write 'no': end\n"
     ]
    }
   ],
   "source": [
    "s='no'\n",
    "with open('marks.txt','w')as f:\n",
    "    while s!='end' and s!='':\n",
    "        name = input('enter name: ')\n",
    "        print(name,end=',',file=f)\n",
    "        gender= int(input('enter gender number (0 for male and 1 for female) : '))\n",
    "        print(gender,end=',',file=f)\n",
    "        # f.write(gender)\n",
    "        age = int(input('enter the year of birth: '))\n",
    "        print(age,end=',',file=f)\n",
    "\n",
    "        # ph = input('physics: ')\n",
    "        d = {} #or dict()\n",
    "        #get scores\n",
    "        for x in ['math','physics','history']:\n",
    "            d[x] = float(input('enter the score of '+x+': '))\n",
    "            print('%.2f'%d[x],end=',',file=f)\n",
    "\n",
    "        #calculate mean\n",
    "        mean = (d['math']*4 + (d['physics']+d['history'])*3)/10\n",
    "        print('%.2f'%mean,file=f)\n",
    "\n",
    "        print('output is : ')\n",
    "        print(name,gender,age,d)\n",
    "        print('-'*15)\n",
    "        s = input('if you wnat to end write \\' end\\', else write \\'no\\': ')"
   ]
  },
  {
   "cell_type": "markdown",
   "metadata": {},
   "source": [
    "# Q2:"
   ]
  },
  {
   "cell_type": "code",
   "execution_count": 1,
   "metadata": {
    "tags": []
   },
   "outputs": [
    {
     "name": "stdout",
     "output_type": "stream",
     "text": [
      "[['reza', '0', '1381', 19.5, 17.0, 18.75, 18.52], ['ali', '0', '1382', 14.0, 17.0, 20.0, 16.7], ['taha', '0', '1382', 9.5, 17.0, 17.25, 14.07], ['hassan', '0', '1379', 18.25, 19.0, 19.0, 18.7], ['zahra', '1', '1381', 19.5, 18.0, 17.5, 18.45], ['sara', '1', '1382', 16.0, 17.25, 20.0, 17.57], ['mino', '1', '1382', 18.75, 16.25, 17.0, 17.47]]\n"
     ]
    }
   ],
   "source": [
    "with open('marks_fix.txt','r')as f:\n",
    "    s = f.read() \n",
    "lines = s.split('\\n')\n",
    "my_list = []\n",
    "for line in lines:\n",
    "    elem = line.split(',')\n",
    "    l = []\n",
    "    for x in elem[3:]:\n",
    "        l.append(float(x))\n",
    "    \n",
    "#     my_list.append(elem[:3]+[float(x) for x in elem[3:]])\n",
    "    my_list.append(elem[:3]+l)\n",
    "    \n",
    "print(my_list)"
   ]
  },
  {
   "cell_type": "markdown",
   "metadata": {},
   "source": [
    "# Q3:"
   ]
  },
  {
   "cell_type": "code",
   "execution_count": 2,
   "metadata": {},
   "outputs": [
    {
     "data": {
      "text/plain": [
       "{'reza': ((0, 1381), (19.5, 17.0, 18.75)),\n",
       " 'ali': ((0, 1382), (14.0, 17.0, 20.0)),\n",
       " 'taha': ((0, 1382), (9.5, 17.0, 17.25)),\n",
       " 'hassan': ((0, 1379), (18.25, 19.0, 19.0)),\n",
       " 'zahra': ((1, 1381), (19.5, 18.0, 17.5)),\n",
       " 'sara': ((1, 1382), (16.0, 17.25, 20.0)),\n",
       " 'mino': ((1, 1382), (18.75, 16.25, 17.0))}"
      ]
     },
     "execution_count": 2,
     "metadata": {},
     "output_type": "execute_result"
    }
   ],
   "source": [
    "# using lines from previous question:\n",
    "my_dict = {}\n",
    "for line in lines:\n",
    "    l = line.split(',')\n",
    "    #check if it works:\n",
    "#     print(tuple([x.split('.')[0] for x in l[3:-1]]))\n",
    "    # compressing definition of 2 tuples\n",
    "    my_dict[l[0]] = (tuple([int(x) for x in l[1:3]]), \n",
    "                     tuple([float(x) for x in l[3:]]))\n",
    "    \n",
    "my_dict"
   ]
  },
  {
   "cell_type": "markdown",
   "metadata": {},
   "source": [
    "# Q4:"
   ]
  },
  {
   "cell_type": "code",
   "execution_count": 4,
   "metadata": {
    "tags": []
   },
   "outputs": [
    {
     "name": "stdout",
     "output_type": "stream",
     "text": [
      "physics' mean ± std : 17.36 ± 0.82\n"
     ]
    }
   ],
   "source": [
    "from numpy import std\n",
    "# again using lines from Q2:\n",
    "phy_scores = []\n",
    "for line in lines:\n",
    "    l = line.split(',')\n",
    "    phy_scores.append(float(l[4]))\n",
    "    \n",
    "print('physics\\' mean ± std : {:.2f} ± {:.2f}'.format(sum(phy_scores)/len(phy_scores), std(phy_scores)))"
   ]
  },
  {
   "cell_type": "markdown",
   "metadata": {},
   "source": [
    "# Q5:"
   ]
  },
  {
   "cell_type": "code",
   "execution_count": 23,
   "metadata": {},
   "outputs": [
    {
     "name": "stdout",
     "output_type": "stream",
     "text": [
      "result of iterative for  1  is  1 in 0.000000 sec\n",
      "result of recursive for  1  is  1 in 0.000000 sec\n",
      "--------------------\n",
      "result of iterative for  32  is  263130836933693530167218012160000000 in 0.000000 sec\n",
      "result of recursive for  32  is  263130836933693530167218012160000000 in 0.000000 sec\n",
      "--------------------\n",
      "result of iterative for  243  is  57651072073405564859932599378988824389544612769748785289578514753791226660795447787952561780489668440613028916503471522241703645767996810695135226278296742637606115134300787052991319431412379312540230792060250137088708811794424564833107085173464718985508999858791970609491066045711874321516918150905413944789377156315207186998055591451670633898714567745386826936678840548225648089961727875705444538167142818292862812160000000000000000000000000000000000000000000000000000000000 in 0.000000 sec\n",
      "result of recursive for  243  is  57651072073405564859932599378988824389544612769748785289578514753791226660795447787952561780489668440613028916503471522241703645767996810695135226278296742637606115134300787052991319431412379312540230792060250137088708811794424564833107085173464718985508999858791970609491066045711874321516918150905413944789377156315207186998055591451670633898714567745386826936678840548225648089961727875705444538167142818292862812160000000000000000000000000000000000000000000000000000000000 in 0.000000 sec\n",
      "--------------------\n"
     ]
    }
   ],
   "source": [
    "import time\n",
    "def f_itr(n):\n",
    "#     if n<0:\n",
    "#         return None\n",
    "    x = 1\n",
    "    for i in range(1,n+1):\n",
    "        x*=i # or x=x*i\n",
    "    return x\n",
    "\n",
    "def f_rec(n):\n",
    "    if n==1 or n == 0:\n",
    "        return 1\n",
    "    return n*f_rec(n-1)\n",
    "\n",
    "for i in range(3):\n",
    "    num = (i+1)**5\n",
    "    n1 = time.time()\n",
    "    result= f_itr(num)\n",
    "    n2 = time.time()    \n",
    "    print('result of iterative for ',num,' is ',result,'in %.6f'%(n2-n1),'sec')\n",
    "    \n",
    "    n1 = time.time()\n",
    "    result = f_rec(num)\n",
    "    n2 = time.time()    \n",
    "    print('result of recursive for ',num,' is ',result,'in %.6f'%(n2-n1),'sec')\n",
    "    print('-'*20)"
   ]
  },
  {
   "cell_type": "markdown",
   "metadata": {},
   "source": [
    "My computer is TOO cool so all the timings are zeros :/"
   ]
  },
  {
   "cell_type": "code",
   "execution_count": 27,
   "metadata": {},
   "outputs": [
    {
     "ename": "RecursionError",
     "evalue": "maximum recursion depth exceeded in comparison",
     "output_type": "error",
     "traceback": [
      "\u001b[1;31m---------------------------------------------------------------------------\u001b[0m",
      "\u001b[1;31mRecursionError\u001b[0m                            Traceback (most recent call last)",
      "\u001b[1;32m<ipython-input-27-1314e0a1e80c>\u001b[0m in \u001b[0;36m<module>\u001b[1;34m\u001b[0m\n\u001b[0;32m      1\u001b[0m \u001b[0mn1\u001b[0m \u001b[1;33m=\u001b[0m \u001b[0mtime\u001b[0m\u001b[1;33m.\u001b[0m\u001b[0mtime\u001b[0m\u001b[1;33m(\u001b[0m\u001b[1;33m)\u001b[0m\u001b[1;33m\u001b[0m\u001b[1;33m\u001b[0m\u001b[0m\n\u001b[1;32m----> 2\u001b[1;33m \u001b[0mresult\u001b[0m \u001b[1;33m=\u001b[0m \u001b[0mf_rec\u001b[0m\u001b[1;33m(\u001b[0m\u001b[1;36m10000\u001b[0m\u001b[1;33m)\u001b[0m\u001b[1;33m\u001b[0m\u001b[1;33m\u001b[0m\u001b[0m\n\u001b[0m\u001b[0;32m      3\u001b[0m \u001b[0mn2\u001b[0m \u001b[1;33m=\u001b[0m \u001b[0mtime\u001b[0m\u001b[1;33m.\u001b[0m\u001b[0mtime\u001b[0m\u001b[1;33m(\u001b[0m\u001b[1;33m)\u001b[0m\u001b[1;33m\u001b[0m\u001b[1;33m\u001b[0m\u001b[0m\n\u001b[0;32m      4\u001b[0m \u001b[0mprint\u001b[0m\u001b[1;33m(\u001b[0m\u001b[1;34m'result of recursive in %.6f'\u001b[0m\u001b[1;33m%\u001b[0m\u001b[1;33m(\u001b[0m\u001b[0mn2\u001b[0m\u001b[1;33m-\u001b[0m\u001b[0mn1\u001b[0m\u001b[1;33m)\u001b[0m\u001b[1;33m,\u001b[0m\u001b[1;34m'sec'\u001b[0m\u001b[1;33m)\u001b[0m\u001b[1;33m\u001b[0m\u001b[1;33m\u001b[0m\u001b[0m\n",
      "\u001b[1;32m<ipython-input-23-7f78eb53ce23>\u001b[0m in \u001b[0;36mf_rec\u001b[1;34m(n)\u001b[0m\n\u001b[0;32m     11\u001b[0m     \u001b[1;32mif\u001b[0m \u001b[0mn\u001b[0m\u001b[1;33m==\u001b[0m\u001b[1;36m1\u001b[0m\u001b[1;33m:\u001b[0m\u001b[1;33m\u001b[0m\u001b[1;33m\u001b[0m\u001b[0m\n\u001b[0;32m     12\u001b[0m         \u001b[1;32mreturn\u001b[0m \u001b[1;36m1\u001b[0m\u001b[1;33m\u001b[0m\u001b[1;33m\u001b[0m\u001b[0m\n\u001b[1;32m---> 13\u001b[1;33m     \u001b[1;32mreturn\u001b[0m \u001b[0mn\u001b[0m\u001b[1;33m*\u001b[0m\u001b[0mf_rec\u001b[0m\u001b[1;33m(\u001b[0m\u001b[0mn\u001b[0m\u001b[1;33m-\u001b[0m\u001b[1;36m1\u001b[0m\u001b[1;33m)\u001b[0m\u001b[1;33m\u001b[0m\u001b[1;33m\u001b[0m\u001b[0m\n\u001b[0m\u001b[0;32m     14\u001b[0m \u001b[1;33m\u001b[0m\u001b[0m\n\u001b[0;32m     15\u001b[0m \u001b[1;32mfor\u001b[0m \u001b[0mi\u001b[0m \u001b[1;32min\u001b[0m \u001b[0mrange\u001b[0m\u001b[1;33m(\u001b[0m\u001b[1;36m3\u001b[0m\u001b[1;33m)\u001b[0m\u001b[1;33m:\u001b[0m\u001b[1;33m\u001b[0m\u001b[1;33m\u001b[0m\u001b[0m\n",
      "... last 1 frames repeated, from the frame below ...\n",
      "\u001b[1;32m<ipython-input-23-7f78eb53ce23>\u001b[0m in \u001b[0;36mf_rec\u001b[1;34m(n)\u001b[0m\n\u001b[0;32m     11\u001b[0m     \u001b[1;32mif\u001b[0m \u001b[0mn\u001b[0m\u001b[1;33m==\u001b[0m\u001b[1;36m1\u001b[0m\u001b[1;33m:\u001b[0m\u001b[1;33m\u001b[0m\u001b[1;33m\u001b[0m\u001b[0m\n\u001b[0;32m     12\u001b[0m         \u001b[1;32mreturn\u001b[0m \u001b[1;36m1\u001b[0m\u001b[1;33m\u001b[0m\u001b[1;33m\u001b[0m\u001b[0m\n\u001b[1;32m---> 13\u001b[1;33m     \u001b[1;32mreturn\u001b[0m \u001b[0mn\u001b[0m\u001b[1;33m*\u001b[0m\u001b[0mf_rec\u001b[0m\u001b[1;33m(\u001b[0m\u001b[0mn\u001b[0m\u001b[1;33m-\u001b[0m\u001b[1;36m1\u001b[0m\u001b[1;33m)\u001b[0m\u001b[1;33m\u001b[0m\u001b[1;33m\u001b[0m\u001b[0m\n\u001b[0m\u001b[0;32m     14\u001b[0m \u001b[1;33m\u001b[0m\u001b[0m\n\u001b[0;32m     15\u001b[0m \u001b[1;32mfor\u001b[0m \u001b[0mi\u001b[0m \u001b[1;32min\u001b[0m \u001b[0mrange\u001b[0m\u001b[1;33m(\u001b[0m\u001b[1;36m3\u001b[0m\u001b[1;33m)\u001b[0m\u001b[1;33m:\u001b[0m\u001b[1;33m\u001b[0m\u001b[1;33m\u001b[0m\u001b[0m\n",
      "\u001b[1;31mRecursionError\u001b[0m: maximum recursion depth exceeded in comparison"
     ]
    }
   ],
   "source": [
    "n1 = time.time()\n",
    "result = f_rec(10000)\n",
    "n2 = time.time()    \n",
    "print('result of recursive in %.6f'%(n2-n1),'sec')"
   ]
  },
  {
   "cell_type": "code",
   "execution_count": 29,
   "metadata": {},
   "outputs": [
    {
     "name": "stdout",
     "output_type": "stream",
     "text": [
      "result of iterative in 489.607409 sec\n"
     ]
    }
   ],
   "source": [
    "n1 = time.time()\n",
    "result = f_itr(1000000)# caution: too big\n",
    "n2 = time.time()    \n",
    "print('result of iterative in %.6f'%(n2-n1),'sec')"
   ]
  },
  {
   "cell_type": "code",
   "execution_count": null,
   "metadata": {},
   "outputs": [
    {
     "name": "stderr",
     "output_type": "stream",
     "text": [
      "IOPub data rate exceeded.\n",
      "The notebook server will temporarily stop sending output\n",
      "to the client in order to avoid crashing it.\n",
      "To change this limit, set the config variable\n",
      "`--NotebookApp.iopub_data_rate_limit`.\n",
      "\n",
      "Current values:\n",
      "NotebookApp.iopub_data_rate_limit=1000000.0 (bytes/sec)\n",
      "NotebookApp.rate_limit_window=3.0 (secs)\n",
      "\n"
     ]
    }
   ],
   "source": [
    "# and how about the result?\n",
    "print(str(result))\n",
    "# sooo because of the below error i can't show you the result."
   ]
  },
  {
   "cell_type": "markdown",
   "metadata": {},
   "source": [
    "finaly i got a result ( don't do this at home :))) )"
   ]
  },
  {
   "cell_type": "markdown",
   "metadata": {},
   "source": [
    "# Q6:"
   ]
  },
  {
   "cell_type": "code",
   "execution_count": 1,
   "metadata": {},
   "outputs": [],
   "source": [
    "def decimal2hex(n,s):\n",
    "    r = n%16\n",
    "    change = 'abcdef'\n",
    "    if r>9: r = change[r-10]\n",
    "    s = str(r) + s\n",
    "    if n<16: \n",
    "        print(s)\n",
    "        return s # for the last char to join the string\n",
    "    sp = decimal2hex(n//16,s)\n",
    "    return sp"
   ]
  },
  {
   "cell_type": "code",
   "execution_count": 2,
   "metadata": {},
   "outputs": [
    {
     "name": "stdout",
     "output_type": "stream",
     "text": [
      "18\n"
     ]
    },
    {
     "data": {
      "text/plain": [
       "'18'"
      ]
     },
     "execution_count": 2,
     "metadata": {},
     "output_type": "execute_result"
    }
   ],
   "source": [
    "decimal2hex(24,'')"
   ]
  },
  {
   "cell_type": "code",
   "execution_count": 3,
   "metadata": {},
   "outputs": [
    {
     "name": "stdout",
     "output_type": "stream",
     "text": [
      "c\n"
     ]
    },
    {
     "data": {
      "text/plain": [
       "'c'"
      ]
     },
     "execution_count": 3,
     "metadata": {},
     "output_type": "execute_result"
    }
   ],
   "source": [
    "decimal2hex(12,'')"
   ]
  },
  {
   "cell_type": "code",
   "execution_count": 4,
   "metadata": {},
   "outputs": [
    {
     "name": "stdout",
     "output_type": "stream",
     "text": [
      "400\n"
     ]
    },
    {
     "data": {
      "text/plain": [
       "'400'"
      ]
     },
     "execution_count": 4,
     "metadata": {},
     "output_type": "execute_result"
    }
   ],
   "source": [
    "decimal2hex(1024,'')"
   ]
  },
  {
   "cell_type": "markdown",
   "metadata": {},
   "source": [
    "# Q7:"
   ]
  },
  {
   "cell_type": "code",
   "execution_count": 12,
   "metadata": {},
   "outputs": [
    {
     "data": {
      "text/plain": [
       "{'youâ€™re': 1,\n",
       " 'my': 7,\n",
       " 'sun': 1,\n",
       " 'the': 4,\n",
       " 'one': 1,\n",
       " 'and': 2,\n",
       " 'only': 1,\n",
       " 'in': 4,\n",
       " 'this': 6,\n",
       " 'world': 1,\n",
       " 'i': 30,\n",
       " 'bloom': 1,\n",
       " 'for': 1,\n",
       " 'you': 14,\n",
       " 'but': 4,\n",
       " 'make': 8,\n",
       " 'me': 24,\n",
       " 'thirsty': 1,\n",
       " 'itâ€™s': 10,\n",
       " 'too': 2,\n",
       " 'late': 2,\n",
       " 'canâ€™t': 12,\n",
       " 'live': 1,\n",
       " 'without': 1,\n",
       " 'even': 4,\n",
       " 'if': 4,\n",
       " 'iâ€˜m': 1,\n",
       " 'drying': 1,\n",
       " 'out': 2,\n",
       " 'try': 1,\n",
       " 'harder': 1,\n",
       " 'to': 11,\n",
       " 'reach': 1,\n",
       " 'no': 1,\n",
       " 'use': 1,\n",
       " 'a': 4,\n",
       " 'dream': 1,\n",
       " 'be': 1,\n",
       " 'broken': 1,\n",
       " 'run': 49,\n",
       " 'iâ€™m': 5,\n",
       " 'not': 1,\n",
       " 'getting': 1,\n",
       " 'anywhere': 1,\n",
       " 'just': 1,\n",
       " 'burn': 1,\n",
       " 'yes': 1,\n",
       " 'keep': 1,\n",
       " 'pushing': 1,\n",
       " 'away': 1,\n",
       " 'is': 10,\n",
       " 'fool': 1,\n",
       " 'crazy': 1,\n",
       " 'love': 7,\n",
       " 'chasing': 2,\n",
       " 'circles': 1,\n",
       " 'more': 2,\n",
       " 'let': 3,\n",
       " 'feet': 3,\n",
       " 'rip': 2,\n",
       " 'apart': 2,\n",
       " 'with': 2,\n",
       " 'wounds': 2,\n",
       " 'at': 6,\n",
       " 'least': 2,\n",
       " 'can': 5,\n",
       " 'smile': 2,\n",
       " 'when': 2,\n",
       " 'see': 2,\n",
       " 'stop': 5,\n",
       " 'again': 11,\n",
       " 'help': 3,\n",
       " 'it': 3,\n",
       " 'all': 6,\n",
       " 'do': 3,\n",
       " 'anyway': 3,\n",
       " 'know': 3,\n",
       " 'how': 3,\n",
       " 'okay': 6,\n",
       " 'fall': 3,\n",
       " 'get': 3,\n",
       " 'hurt': 3,\n",
       " 'alright': 3,\n",
       " 'have': 3,\n",
       " 'pitiful': 3,\n",
       " 'destiny': 3,\n",
       " 'point': 3,\n",
       " 'your': 5,\n",
       " 'finger': 3,\n",
       " 'donâ€™t': 8,\n",
       " 'tell': 9,\n",
       " 'bye': 8,\n",
       " 'cry': 4,\n",
       " 'lie': 4,\n",
       " 'everyone': 1,\n",
       " 'says': 1,\n",
       " 'over': 1,\n",
       " 'sweat': 1,\n",
       " 'or': 1,\n",
       " 'tears': 1,\n",
       " 'really': 1,\n",
       " 'oh': 1,\n",
       " 'stripped': 1,\n",
       " 'bare': 1,\n",
       " 'stormy': 1,\n",
       " 'winds': 1,\n",
       " 'they': 1,\n",
       " 'heart': 1,\n",
       " 'beats': 1,\n",
       " 'memories': 1,\n",
       " 'crumble': 1,\n",
       " 'like': 1,\n",
       " 'dried': 1,\n",
       " 'flower': 1,\n",
       " 'petals': 1,\n",
       " 'tip': 1,\n",
       " 'of': 1,\n",
       " 'fingers': 1,\n",
       " 'under': 1,\n",
       " 'right': 1,\n",
       " 'behind': 1,\n",
       " 'back': 1,\n",
       " 'butterflies': 1,\n",
       " 'so': 1,\n",
       " 'lost': 1,\n",
       " 'dreams': 1,\n",
       " 'follow': 1,\n",
       " 'traces': 1,\n",
       " 'show': 1,\n",
       " 'way': 1,\n",
       " 'please': 1,\n",
       " 'breathe': 1}"
      ]
     },
     "execution_count": 12,
     "metadata": {},
     "output_type": "execute_result"
    }
   ],
   "source": [
    "from string import punctuation\n",
    "with open('song.txt','r') as f:\n",
    "    s = f.read()\n",
    "    \n",
    "# preprocessing\n",
    "s = s.replace('\\n',' ')\n",
    "for x in punctuation:\n",
    "    s = s.replace(x,' ')\n",
    "s = s.lower()\n",
    "# print(s)\n",
    "\n",
    "# spliting\n",
    "song = s.split()\n",
    "\n",
    "# to dictionary:\n",
    "def freq(lyrics):\n",
    "    myDict = {}\n",
    "    for word in lyrics:\n",
    "        if word in myDict:\n",
    "            myDict[word] += 1\n",
    "        else:\n",
    "            myDict[word] = 1\n",
    "    return myDict\n",
    "\n",
    "freq(song)"
   ]
  },
  {
   "cell_type": "markdown",
   "metadata": {},
   "source": [
    "# Q8:"
   ]
  },
  {
   "cell_type": "code",
   "execution_count": 13,
   "metadata": {},
   "outputs": [
    {
     "name": "stdout",
     "output_type": "stream",
     "text": [
      "butterflies 11\n"
     ]
    }
   ],
   "source": [
    "from string import punctuation\n",
    "with open('song.txt','r') as f:\n",
    "    s = f.read()\n",
    "    \n",
    "# preprocessing\n",
    "s = s.replace('\\n',' ')\n",
    "for x in punctuation:\n",
    "    s = s.replace(x,' ')\n",
    "s = s.lower()\n",
    "# print(s)\n",
    "\n",
    "# spliting\n",
    "song = s.split()\n",
    "\n",
    "leg = len(song[0])\n",
    "w = song[0]\n",
    "for word in song[1:]:\n",
    "    if len(word)>leg:\n",
    "        w = word\n",
    "        leg = len(word)\n",
    "        \n",
    "print(w, leg)    \n",
    "with open('song2.txt','w') as f:\n",
    "    f.write(s.replace(w,''))"
   ]
  },
  {
   "cell_type": "code",
   "execution_count": 14,
   "metadata": {},
   "outputs": [
    {
     "name": "stdout",
     "output_type": "stream",
     "text": [
      "youâ€™re my sun  the one and only in this world i bloom for you  but you make me thirsty itâ€™s too late  too late i canâ€™t live without you even if iâ€˜m drying out  i try harder to reach you but itâ€™s no use  itâ€™s a dream to be broken i run and run  but iâ€™m not getting anywhere just burn me out  yes keep pushing me away this is a fool  crazy in love  chasing in circles make me run make me run more let my feet rip apart with wounds at least i can smile when i see you i run  run  run i canâ€™t stop run  run  run again i canâ€™t help it this is all i can do anyway all i know is how to love you run  run  run again itâ€™s okay to fall run  run  run  again itâ€™s okay to get hurt iâ€™m alright  even if i canâ€™t have you pitiful destiny  point your finger at me  run  donâ€™t tell me bye bye  run  you make me cry cry  run  love is a lie lie donâ€™t tell me  donâ€™t tell me donâ€™t tell me bye bye everyone says itâ€™s over  but i canâ€™t stop is this sweat or tears  i canâ€™t really tell oh my love stripped bare  the stormy winds they make me run again  my heart beats again make me run make me run more let my feet rip apart with wounds at least i can i smile when i see you i run  run  run i canâ€™t stop run  run  run again i canâ€™t help it this is all i can do anyway all i know is how to love you run  run  run again itâ€™s okay to fall run  run  run  again itâ€™s okay to get hurt iâ€™m alright  even if i canâ€™t have you pitiful destiny  point your finger at me memories crumble like dried flower petals at the tip of my fingers  under my feet right behind your back iâ€™m chasing   so lost in dreams i follow your traces show me the way  please stop me let me breathe i run  run  run i canâ€™t stop run  run  run again i canâ€™t help it this is all i can do anyway all i know is how to love you run  run  run again itâ€™s okay to fall run  run  run  again itâ€™s okay to get hurt iâ€™m alright  even if i canâ€™t have you pitiful destiny  point your finger at me  run  donâ€™t tell me bye bye  run  you make me cry cry  run  love is a lie lie donâ€™t tell me  donâ€™t tell me donâ€™t tell me bye bye\n"
     ]
    }
   ],
   "source": [
    "with open('song2.txt','r') as f:\n",
    "    print(f.read())"
   ]
  },
  {
   "cell_type": "code",
   "execution_count": null,
   "metadata": {},
   "outputs": [],
   "source": []
  },
  {
   "cell_type": "code",
   "execution_count": null,
   "metadata": {},
   "outputs": [],
   "source": []
  },
  {
   "cell_type": "code",
   "execution_count": null,
   "metadata": {},
   "outputs": [],
   "source": []
  },
  {
   "cell_type": "code",
   "execution_count": null,
   "metadata": {},
   "outputs": [],
   "source": []
  },
  {
   "cell_type": "code",
   "execution_count": null,
   "metadata": {},
   "outputs": [],
   "source": [
    "\n"
   ]
  }
 ],
 "metadata": {
  "kernelspec": {
   "display_name": "Python 3",
   "language": "python",
   "name": "python3"
  },
  "language_info": {
   "codemirror_mode": {
    "name": "ipython",
    "version": 3
   },
   "file_extension": ".py",
   "mimetype": "text/x-python",
   "name": "python",
   "nbconvert_exporter": "python",
   "pygments_lexer": "ipython3",
   "version": "3.7.3"
  }
 },
 "nbformat": 4,
 "nbformat_minor": 2
}
