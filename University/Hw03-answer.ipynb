{
 "cells": [
  {
   "cell_type": "markdown",
   "metadata": {},
   "source": [
    "# Q1:"
   ]
  },
  {
   "cell_type": "code",
   "execution_count": 1,
   "metadata": {},
   "outputs": [
    {
     "name": "stdout",
     "output_type": "stream",
     "text": [
      "[1, 2, 3] [1, 2, 3]\n",
      "[1, 2, 3] [5, 2, 3]\n"
     ]
    }
   ],
   "source": [
    "a = [1,2,3]\n",
    "b = a[:] # cloning\n",
    "print(a,b)\n",
    "b[0] = 5\n",
    "print(a,b)"
   ]
  },
  {
   "cell_type": "markdown",
   "metadata": {},
   "source": [
    "# Q2:"
   ]
  },
  {
   "cell_type": "code",
   "execution_count": 5,
   "metadata": {},
   "outputs": [
    {
     "name": "stdout",
     "output_type": "stream",
     "text": [
      "Warning! Length of 2 vectors aren't equal.\n",
      "[[5, 7, 9], None, [127, 76755, 7074, 8847]]\n"
     ]
    }
   ],
   "source": [
    "def add_vectors(a,b):\n",
    "    if len(a)!= len(b):\n",
    "        print(\"Warning! Length of 2 vectors aren't equal.\")\n",
    "        return\n",
    "    c = []\n",
    "    for i in range(len(a)):\n",
    "        c.append(a[i]+b[i]) \n",
    "    return c\n",
    "\n",
    "result = []\n",
    "result.append(add_vectors([1,2,3],[4,5,6]))\n",
    "result.append(add_vectors([2,3],[6,7,8,9]))\n",
    "result.append(add_vectors([4,12,543,2324],[123,76743,6531,6523]))\n",
    "print(result)"
   ]
  },
  {
   "cell_type": "markdown",
   "metadata": {},
   "source": [
    "# Q3:"
   ]
  },
  {
   "cell_type": "code",
   "execution_count": 1,
   "metadata": {},
   "outputs": [
    {
     "name": "stdout",
     "output_type": "stream",
     "text": [
      "Warning! Length of 2 vectors aren't equal.\n",
      "[32, None, 19627193]\n"
     ]
    }
   ],
   "source": [
    "def dot_product(a,b):\n",
    "    if len(a)!= len(b):\n",
    "        print(\"Warning! Length of 2 vectors aren't equal.\")\n",
    "        return\n",
    "    c = 0\n",
    "    for i in range(len(a)):\n",
    "        c+=a[i]*b[i]\n",
    "    \n",
    "    return c\n",
    "\n",
    "result = []\n",
    "result.append(dot_product([1,2,3],[4,5,6]))\n",
    "result.append(dot_product([2,3],[6,7,8,9]))\n",
    "result.append(dot_product([4,12,543,2324],[123,76743,6531,6523]))\n",
    "print(result)"
   ]
  },
  {
   "cell_type": "markdown",
   "metadata": {},
   "source": [
    "# Q4:"
   ]
  },
  {
   "cell_type": "code",
   "execution_count": 5,
   "metadata": {},
   "outputs": [
    {
     "name": "stdout",
     "output_type": "stream",
     "text": [
      "--------------------\n",
      "12\t23\t34\t\n",
      "47\t59\t71\t\n",
      "--------------------\n",
      "Warning! Shape of 2 matrix aren't equal.\n",
      "--------------------\n",
      "12\t217\t34\t575\t\n",
      "47\t59\t71\t\n",
      "160\t95\t99\t94\t\n",
      "--------------------\n"
     ]
    }
   ],
   "source": [
    "def add_matrix(a,b):\n",
    "    if a == b == []:\n",
    "        return []\n",
    "    if len(a)!=len(b):\n",
    "        print(\"Warning! Length of 2 matrix aren't equal.\")\n",
    "        return\n",
    "    \n",
    "    c = []\n",
    "    for i in range(len(a)):\n",
    "        if len(a[i])!=len(b[i]):\n",
    "            print(\"Warning! Shape of 2 matrix aren't equal.\")\n",
    "            return\n",
    "        temp = []\n",
    "        for j in range(len(a[i])):\n",
    "            temp.append(a[i][j]+b[i][j])\n",
    "        c.append(temp)\n",
    "    return c\n",
    "\n",
    "def primat(c):\n",
    "    if c== None:\n",
    "        return\n",
    "    print('-'*20)\n",
    "    for i in range(len(c)):\n",
    "        for j in range(len(c[i])):\n",
    "            print(c[i][j], end='\\t')\n",
    "        print()\n",
    "    print('-'*20)\n",
    "\n",
    "primat(add_matrix([[1,2,3],[4,5,6]], [[11,21,31],[43,54,65]]))\n",
    "primat(add_matrix([[1,2],[4,5]], [[11,21],[43,54,65]]))\n",
    "primat(add_matrix([[1,2,3,54],[4,5,6],[74,57,6,37]], [[11,215,31,521],[43,54,65],[86,38,93,57]]))"
   ]
  },
  {
   "cell_type": "code",
   "execution_count": 9,
   "metadata": {
    "tags": []
   },
   "outputs": [
    {
     "name": "stdout",
     "output_type": "stream",
     "text": [
      "--------------------\n",
      "103.0\t324.0\t173.0\t\n",
      "1905.0\t2796.0\t2943.0\t\n",
      "--------------------\n",
      "Warning! Shape of 2 matrix aren't compatible.\n",
      "--------------------\n",
      "625.0\t545.0\t872.0\t396.0\t\n",
      "1260.0\t1552.0\t1783.0\t736.0\t\n",
      "3966.0\t19290.0\t6853.0\t1102.0\t\n",
      "--------------------\n"
     ]
    }
   ],
   "source": [
    "import numpy\n",
    "def mul_matrix(a,b):\n",
    "    if a == b == []:\n",
    "        return []\n",
    "    if len(a[0])!=len(b):\n",
    "        print(\"Warning! Shape of 2 matrix aren't compatible.\")\n",
    "        return\n",
    "    c = numpy.zeros((len(a),len(b[0])))\n",
    "    for i in range(len(a)):\n",
    "        if len(a[i])!=len(a[0]): \n",
    "            print(\"Warning! Shape of 2 matrix aren't compatible.\")\n",
    "            return\n",
    "        if len(b[i])!=len(b[0]): \n",
    "            print(\"Warning! Shape of 2 matrix aren't compatible.\")\n",
    "            return\n",
    "        for j in range(len(b[0])):\n",
    "            for k in range(len(b)):\n",
    "                c[i][j] += a[i][k]*b[k][j]\n",
    "        \n",
    "    return list(c)\n",
    "\n",
    "def primat(c):\n",
    "    if c== None:\n",
    "        return\n",
    "    print('-'*20)\n",
    "    for i in range(len(c)):\n",
    "        for j in range(len(c[i])):\n",
    "            print(c[i][j], end='\\t')\n",
    "        print()\n",
    "    print('-'*20)\n",
    "\n",
    "\n",
    "primat(mul_matrix([[1,2,3],[4,43,6]], [[11,21,31],[43,54,65],[2,65,4]]))\n",
    "primat(mul_matrix([[1,2],[4,5]], [[11,21],[43,54,65]]))\n",
    "primat(mul_matrix([[1,2,3,54],[4,5,6,97],[74,57,6,37]], [[11,215,31,9],[43,54,65,3],[86,38,93,1],[5,2,8,7]]))"
   ]
  },
  {
   "cell_type": "markdown",
   "metadata": {},
   "source": [
    "# Q5:"
   ]
  },
  {
   "cell_type": "code",
   "execution_count": 22,
   "metadata": {},
   "outputs": [
    {
     "name": "stdout",
     "output_type": "stream",
     "text": [
      "change of mean: 0.757812 \n",
      "change of variance: -0.348470\n"
     ]
    }
   ],
   "source": [
    "import numpy as np\n",
    "\n",
    "def checkms(m, s, num):\n",
    "    l = np.random.normal(m,s,num)\n",
    "    mp = sum(l)/len(l)\n",
    "#     sp = np.var(l) # readymade\n",
    "    sp=0\n",
    "    for x in l:\n",
    "        sp += (x-mp)**2\n",
    "    sp/=len(l)\n",
    "    \n",
    "    print('change of mean: %.6f'%(mp-m), '\\nchange of variance: %.6f'%(sp-s))\n",
    "    \n",
    "checkms(5,1,10)"
   ]
  },
  {
   "cell_type": "code",
   "execution_count": null,
   "metadata": {},
   "outputs": [],
   "source": [
    "import random\n",
    "random.Random.gauss()"
   ]
  },
  {
   "cell_type": "code",
   "execution_count": 25,
   "metadata": {},
   "outputs": [
    {
     "name": "stdout",
     "output_type": "stream",
     "text": [
      "change of mean: -0.030846 \n",
      "change of variance: -0.186926\n"
     ]
    }
   ],
   "source": [
    "checkms(5,1,50)"
   ]
  },
  {
   "cell_type": "code",
   "execution_count": 26,
   "metadata": {},
   "outputs": [
    {
     "name": "stdout",
     "output_type": "stream",
     "text": [
      "change of mean: -0.028534 \n",
      "change of variance: -0.129456\n"
     ]
    }
   ],
   "source": [
    "checkms(5,1,100)"
   ]
  },
  {
   "cell_type": "markdown",
   "metadata": {},
   "source": [
    "# Q6:"
   ]
  },
  {
   "cell_type": "code",
   "execution_count": 28,
   "metadata": {},
   "outputs": [
    {
     "name": "stdout",
     "output_type": "stream",
     "text": [
      "1.315   2.729   -2.836   9.957   9.699   8.055   9.521   -0.756   -3.686   -2.562   \n",
      "----------------------------------------\n",
      "13.188   85.070   19.815   89.722   23.169   48.314   61.328   60.797   72.123   97.333   34.543   51.855   8.213   24.555   19.163   96.020   28.458   90.247   5.774   69.427   \n",
      "----------------------------------------\n",
      "-284.011   -255.136   4.505   -120.538   -57.894   -100.260   -194.520   -257.072   -24.400   -82.006   -21.029   -95.317   -170.740   -216.720   -283.150   -82.348   -15.844   -166.482   -92.917   -103.790   -95.056   -292.440   -134.920   0.234   -157.944   -293.684   -255.587   -69.102   -31.307   -169.156   \n"
     ]
    }
   ],
   "source": [
    "import random\n",
    "def uni(s,f,n):\n",
    "    for _ in range(n):\n",
    "        print('%.3f '%random.uniform(s,f), end = '  ')\n",
    "    print()\n",
    "\n",
    "uni(-10,10,10)\n",
    "print('--'*20)\n",
    "uni(0,100,20)\n",
    "print('--'*20)\n",
    "uni(-300,10,30)\n"
   ]
  },
  {
   "cell_type": "markdown",
   "metadata": {},
   "source": [
    "# Q7:"
   ]
  },
  {
   "cell_type": "code",
   "execution_count": 19,
   "metadata": {},
   "outputs": [
    {
     "data": {
      "text/plain": [
       "(-10, 73)"
      ]
     },
     "execution_count": 19,
     "metadata": {},
     "output_type": "execute_result"
    }
   ],
   "source": [
    "def lim_tuple(u):\n",
    "    mini = u[0]\n",
    "    maxi = u[0]\n",
    "    \n",
    "    for x in u:\n",
    "        if x>maxi: #check for maximum\n",
    "            maxi = x\n",
    "        \n",
    "        if x<mini: # check for min\n",
    "            mini = x\n",
    "    return mini, maxi\n",
    "\n",
    "lim_tuple((1,3,7,34,73,23,54,-10))"
   ]
  },
  {
   "cell_type": "code",
   "execution_count": 20,
   "metadata": {},
   "outputs": [
    {
     "data": {
      "text/plain": [
       "(-349, 238724)"
      ]
     },
     "execution_count": 20,
     "metadata": {},
     "output_type": "execute_result"
    }
   ],
   "source": [
    "lim_tuple((130,29,32,54,-349,-238,238724))"
   ]
  },
  {
   "cell_type": "code",
   "execution_count": 21,
   "metadata": {},
   "outputs": [
    {
     "data": {
      "text/plain": [
       "(1, 7)"
      ]
     },
     "execution_count": 21,
     "metadata": {},
     "output_type": "execute_result"
    }
   ],
   "source": [
    "lim_tuple((1,2,3,4,5,6,7))"
   ]
  },
  {
   "cell_type": "markdown",
   "metadata": {},
   "source": [
    "# Q8:"
   ]
  },
  {
   "cell_type": "code",
   "execution_count": 24,
   "metadata": {},
   "outputs": [
    {
     "name": "stdout",
     "output_type": "stream",
     "text": [
      "sana   ata   mina   \n",
      "sana   ata   mina   \n",
      "sana   ata   mina   arsh   nim   \n"
     ]
    }
   ],
   "source": [
    "def get_data(tup):\n",
    "    uniques = []\n",
    "    for s,i in tup:\n",
    "        if s not in uniques:\n",
    "            print(s, end='   ')\n",
    "            uniques.append(s)\n",
    "    print()\n",
    "            \n",
    "get_data((('sana',2),('sana',3),('ata',1),('mina',10)))\n",
    "get_data((('sana',2),('ata',1),('mina',10)))\n",
    "get_data((('sana',2),('ata',1),('sana',3),('mina',10),('arsh',23),('nim',421),('arsh',3434),('sana',928)))"
   ]
  },
  {
   "cell_type": "markdown",
   "metadata": {},
   "source": [
    "# Q9:"
   ]
  },
  {
   "cell_type": "code",
   "execution_count": 30,
   "metadata": {},
   "outputs": [
    {
     "data": {
      "text/plain": [
       "15"
      ]
     },
     "execution_count": 30,
     "metadata": {},
     "output_type": "execute_result"
    }
   ],
   "source": [
    "def det(u,v):\n",
    "    return u[0]*v[1]-u[1]*v[0]\n",
    "def det_mat(u):\n",
    "    \n",
    "    result =  u[0][0]*det(u[1][1:],u[2][1:]) - u[0][1]*det(u[0][1:],u[2][1:]) + u[0][2]*det(u[0][1:],u[1][1:])\n",
    "            \n",
    "    return result\n",
    "            \n",
    "    \n",
    "det_mat([[1,2,4],[2,1,2],[1,3,1]])"
   ]
  },
  {
   "cell_type": "code",
   "execution_count": 31,
   "metadata": {},
   "outputs": [
    {
     "data": {
      "text/plain": [
       "15.000000000000007"
      ]
     },
     "execution_count": 31,
     "metadata": {},
     "output_type": "execute_result"
    }
   ],
   "source": [
    "# check the answer\n",
    "np.linalg.det([[1,2,4],[2,1,2],[1,3,1]])"
   ]
  },
  {
   "cell_type": "code",
   "execution_count": 33,
   "metadata": {},
   "outputs": [
    {
     "data": {
      "text/plain": [
       "3"
      ]
     },
     "execution_count": 33,
     "metadata": {},
     "output_type": "execute_result"
    }
   ],
   "source": [
    "def trac_mat(u):\n",
    "    result = 0\n",
    "    for i in range(3):\n",
    "        result+=u[i][i]\n",
    "    return result\n",
    "\n",
    "trac_mat([[1,2,4],[2,1,2],[1,3,1]])"
   ]
  },
  {
   "cell_type": "markdown",
   "metadata": {},
   "source": [
    "# Q10:"
   ]
  },
  {
   "cell_type": "code",
   "execution_count": 35,
   "metadata": {},
   "outputs": [
    {
     "data": {
      "text/plain": [
       "(-5, 0, 5)"
      ]
     },
     "execution_count": 35,
     "metadata": {},
     "output_type": "execute_result"
    }
   ],
   "source": [
    "def cross_product(u,v):\n",
    "    if len(a)!= len(b):\n",
    "        print(\"Warning! Length of 2 vectors aren't equal.\")\n",
    "        return\n",
    "    mat = [[u[0],v[0]],[u[1],v[1]],[u[2],v[2]]]\n",
    "    return (det(mat[1][:],mat[2][:]),- det(mat[0][:],mat[2][:]),det(mat[0][:],mat[1][:]))\n",
    "\n",
    "cross_product([2,1,2],[1,3,1])"
   ]
  },
  {
   "cell_type": "code",
   "execution_count": null,
   "metadata": {},
   "outputs": [],
   "source": []
  }
 ],
 "metadata": {
  "kernelspec": {
   "display_name": "Python 3",
   "language": "python",
   "name": "python3"
  },
  "language_info": {
   "codemirror_mode": {
    "name": "ipython",
    "version": 3
   },
   "file_extension": ".py",
   "mimetype": "text/x-python",
   "name": "python",
   "nbconvert_exporter": "python",
   "pygments_lexer": "ipython3",
   "version": "3.7.3"
  }
 },
 "nbformat": 4,
 "nbformat_minor": 2
}
