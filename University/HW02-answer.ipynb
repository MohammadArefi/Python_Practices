{
 "cells": [
  {
   "cell_type": "markdown",
   "metadata": {},
   "source": [
    "# Q1:"
   ]
  },
  {
   "cell_type": "code",
   "execution_count": 13,
   "metadata": {},
   "outputs": [
    {
     "name": "stdout",
     "output_type": "stream",
     "text": [
      "The initial  9\n",
      "5.0, 3.4, 3.023529411764706, 3.00009155413138, \n",
      "The answer is :  3.00009155413138\n",
      "------------------------------\n",
      "The initial  109\n",
      "55.0, 28.490909090909092, 16.158345419736612, 11.452042801717623, 10.484997676412538, 10.440401754542181, 10.440306509345005, \n",
      "The answer is :  10.440306509345005\n",
      "------------------------------\n",
      "The initial  4003\n",
      "2002.0, 1001.9997502497503, 502.9973806127768, 255.47783627641647, 135.5732572306783, 82.54986467593214, 65.52088365305707, 63.307954137233054, 63.269277661988035, 63.26926584053381, \n",
      "The answer is :  63.26926584053381\n",
      "------------------------------\n",
      "The initial  34\n",
      "17.5, 9.721428571428572, 6.609428466463735, 5.876797445306567, 5.83113071796424, 5.8309518975872825, \n",
      "The answer is :  5.8309518975872825\n"
     ]
    }
   ],
   "source": [
    "def N_sqrt(n):\n",
    "    x = n\n",
    "    print(\"The initial \",x)\n",
    "    while abs(x*x-n)>.001:\n",
    "#         x = .5*(x + n/x)\n",
    "        x = (x*x + n)/(2*x)\n",
    "        print(x, end=\", \")\n",
    "    print(\"\\nThe answer is : \",x)\n",
    "N_sqrt(9)\n",
    "print(\"-\"*30)\n",
    "N_sqrt(109)\n",
    "print(\"-\"*30)\n",
    "N_sqrt(4003)\n",
    "print(\"-\"*30)\n",
    "N_sqrt(34)"
   ]
  },
  {
   "cell_type": "markdown",
   "metadata": {},
   "source": [
    "# Q2:"
   ]
  },
  {
   "cell_type": "code",
   "execution_count": 14,
   "metadata": {},
   "outputs": [
    {
     "data": {
      "text/plain": [
       "(222, -162)"
      ]
     },
     "execution_count": 14,
     "metadata": {},
     "output_type": "execute_result"
    }
   ],
   "source": [
    "def sums(l):\n",
    "    sump = 0\n",
    "    sumn = 0\n",
    "    for x in l:\n",
    "        if x<0: sumn+=x\n",
    "        elif x>0: sump+=x\n",
    "    return sump,sumn\n",
    "\n",
    "sums([10,-29,-30,-50,13,134,65,-53])"
   ]
  },
  {
   "cell_type": "code",
   "execution_count": 15,
   "metadata": {},
   "outputs": [
    {
     "data": {
      "text/plain": [
       "(99, -9)"
      ]
     },
     "execution_count": 15,
     "metadata": {},
     "output_type": "execute_result"
    }
   ],
   "source": [
    "sums([3,5,1,-5,-3,-1,90])"
   ]
  },
  {
   "cell_type": "code",
   "execution_count": 16,
   "metadata": {},
   "outputs": [
    {
     "data": {
      "text/plain": [
       "(102, -46)"
      ]
     },
     "execution_count": 16,
     "metadata": {},
     "output_type": "execute_result"
    }
   ],
   "source": [
    "sums([-40,23,1,-6,78])"
   ]
  },
  {
   "cell_type": "code",
   "execution_count": 17,
   "metadata": {},
   "outputs": [
    {
     "data": {
      "text/plain": [
       "(956, -113)"
      ]
     },
     "execution_count": 17,
     "metadata": {},
     "output_type": "execute_result"
    }
   ],
   "source": [
    "sums([46,87,-71,-40,-2,823])"
   ]
  },
  {
   "cell_type": "markdown",
   "metadata": {},
   "source": [
    "# Q3:"
   ]
  },
  {
   "cell_type": "code",
   "execution_count": 20,
   "metadata": {},
   "outputs": [
    {
     "data": {
      "text/plain": [
       "True"
      ]
     },
     "execution_count": 20,
     "metadata": {},
     "output_type": "execute_result"
    }
   ],
   "source": [
    "from math import sqrt as sq\n",
    "def is_prime(n):\n",
    "    for i in range(2, int(sq(n))+1):\n",
    "        if n%i==0:\n",
    "            return False\n",
    "    return True\n",
    "is_prime(17)"
   ]
  },
  {
   "cell_type": "code",
   "execution_count": 22,
   "metadata": {},
   "outputs": [
    {
     "name": "stdout",
     "output_type": "stream",
     "text": [
      "The prime divisors of 30 is/are :\n",
      "2\n",
      "3\n",
      "5\n"
     ]
    }
   ],
   "source": [
    "def prime_divisors(n):\n",
    "    print(\"The prime divisors of {} is/are :\".format(n))\n",
    "    for x in range(2,n):\n",
    "        if n%x==0 and is_prime(x):\n",
    "            print(x)\n",
    "prime_divisors(30)"
   ]
  },
  {
   "cell_type": "markdown",
   "metadata": {},
   "source": [
    "# Q4:"
   ]
  },
  {
   "cell_type": "code",
   "execution_count": 59,
   "metadata": {},
   "outputs": [],
   "source": [
    "def play_once(hpf):\n",
    "    import random\n",
    "    rng = random.Random()\n",
    "    result = rng.randrange(-1,2)\n",
    "    print('human plays first = {0}, winner={1}'.format(hpf,result))\n",
    "    return result\n"
   ]
  },
  {
   "cell_type": "code",
   "execution_count": 62,
   "metadata": {},
   "outputs": [
    {
     "name": "stdout",
     "output_type": "stream",
     "text": [
      "human plays first = False, winner=-1\n",
      "you win!\n",
      "Do you want to play again? (enter goodbye if not) : y\n",
      "human plays first = False, winner=0\n",
      "Game drawn!\n",
      "Do you want to play again? (enter goodbye if not) : y\n",
      "human plays first = False, winner=0\n",
      "Game drawn!\n",
      "Do you want to play again? (enter goodbye if not) : y\n",
      "human plays first = False, winner=-1\n",
      "you win!\n",
      "Do you want to play again? (enter goodbye if not) : y\n",
      "human plays first = False, winner=1\n",
      "I win!\n",
      "Do you want to play again? (enter goodbye if not) : y\n",
      "human plays first = False, winner=0\n",
      "Game drawn!\n",
      "Do you want to play again? (enter goodbye if not) : goodbye\n"
     ]
    }
   ],
   "source": [
    "#a:\n",
    "while True:\n",
    "    result = play_once(False)\n",
    "    if result == -1: print('you win!')\n",
    "    elif result == 0: print('Game drawn!')\n",
    "    else: print('I win!')\n",
    "    choice = input('Do you want to play again? (enter goodbye if not) : ')\n",
    "    if choice == 'goodbye':\n",
    "        break"
   ]
  },
  {
   "cell_type": "code",
   "execution_count": 63,
   "metadata": {},
   "outputs": [
    {
     "name": "stdout",
     "output_type": "stream",
     "text": [
      "human plays first = True, winner=0\n",
      "Game drawn!\n",
      "Do you want to play again? (enter goodbye if not) : \n",
      "human plays first = True, winner=0\n",
      "Game drawn!\n",
      "Do you want to play again? (enter goodbye if not) : \n",
      "human plays first = True, winner=1\n",
      "I win!\n",
      "Do you want to play again? (enter goodbye if not) : \n",
      "human plays first = True, winner=0\n",
      "Game drawn!\n",
      "Do you want to play again? (enter goodbye if not) : \n",
      "human plays first = True, winner=-1\n",
      "you win!\n",
      "Do you want to play again? (enter goodbye if not) : \n",
      "human plays first = True, winner=-1\n",
      "you win!\n",
      "Do you want to play again? (enter goodbye if not) : \n",
      "human plays first = True, winner=1\n",
      "I win!\n",
      "Do you want to play again? (enter goodbye if not) : goodbye\n",
      "{'computer': 2, 'drawn': 3, 'human': 2}\n"
     ]
    }
   ],
   "source": [
    "#b:\n",
    "scores ={'computer':0, 'drawn':0, 'human':0}\n",
    "while True:\n",
    "    result = play_once(True)\n",
    "    if result == -1: \n",
    "        print('you win!')\n",
    "        scores['human'] +=1 # added\n",
    "    elif result == 0: \n",
    "        print('Game drawn!')\n",
    "        scores['drawn']+=1 #added\n",
    "    else: \n",
    "        print('I win!')\n",
    "        scores['computer']+=1 # added\n",
    "    choice = input('Do you want to play again? (enter goodbye if not) : ')\n",
    "    if choice == 'goodbye':\n",
    "        break\n",
    "print(scores)"
   ]
  },
  {
   "cell_type": "code",
   "execution_count": 67,
   "metadata": {},
   "outputs": [
    {
     "name": "stdout",
     "output_type": "stream",
     "text": [
      "human plays first = True, winner=-1\n",
      "you win!\n",
      "Do you want to play again? (enter goodbye if not) : y\n",
      "human plays first = False, winner=1\n",
      "I win!\n",
      "Do you want to play again? (enter goodbye if not) : y\n",
      "human plays first = True, winner=0\n",
      "Game drawn!\n",
      "Do you want to play again? (enter goodbye if not) : y\n",
      "human plays first = False, winner=1\n",
      "I win!\n",
      "Do you want to play again? (enter goodbye if not) : y\n",
      "human plays first = True, winner=1\n",
      "I win!\n",
      "Do you want to play again? (enter goodbye if not) : y\n",
      "human plays first = False, winner=-1\n",
      "you win!\n",
      "Do you want to play again? (enter goodbye if not) : y\n",
      "human plays first = True, winner=0\n",
      "Game drawn!\n",
      "Do you want to play again? (enter goodbye if not) : \n",
      "human plays first = False, winner=0\n",
      "Game drawn!\n",
      "Do you want to play again? (enter goodbye if not) : goodbye\n",
      "{'computer': 3, 'drawn': 3, 'human': 2}\n"
     ]
    }
   ],
   "source": [
    "#c: add logic\n",
    "scores ={'computer':0, 'drawn':0, 'human':0}\n",
    "hpf = True # added\n",
    "while True:\n",
    "    result = play_once(hpf)\n",
    "    if result == -1: \n",
    "        print('you win!')\n",
    "        scores['human'] +=1 \n",
    "    elif result == 0: \n",
    "        print('Game drawn!')\n",
    "        scores['drawn']+=1 \n",
    "    else: \n",
    "        print('I win!')\n",
    "        scores['computer']+=1 \n",
    "    choice = input('Do you want to play again? (enter goodbye if not) : ')\n",
    "    if choice == 'goodbye':\n",
    "        break\n",
    "    hpf = not hpf # added\n",
    "print(scores)"
   ]
  },
  {
   "cell_type": "code",
   "execution_count": 69,
   "metadata": {},
   "outputs": [
    {
     "name": "stdout",
     "output_type": "stream",
     "text": [
      "human plays first = True, winner=0\n",
      "Game drawn!\n",
      "Do you want to play again? (enter goodbye if not) : \n",
      "human plays first = False, winner=-1\n",
      "you win!\n",
      "Do you want to play again? (enter goodbye if not) : \n",
      "human plays first = True, winner=0\n",
      "Game drawn!\n",
      "Do you want to play again? (enter goodbye if not) : \n",
      "human plays first = False, winner=1\n",
      "I win!\n",
      "Do you want to play again? (enter goodbye if not) : \n",
      "human plays first = True, winner=1\n",
      "I win!\n",
      "Do you want to play again? (enter goodbye if not) : \n",
      "human plays first = False, winner=0\n",
      "Game drawn!\n",
      "Do you want to play again? (enter goodbye if not) : \n",
      "human plays first = True, winner=1\n",
      "I win!\n",
      "Do you want to play again? (enter goodbye if not) : \n",
      "human plays first = False, winner=-1\n",
      "you win!\n",
      "Do you want to play again? (enter goodbye if not) : \n",
      "human plays first = True, winner=-1\n",
      "you win!\n",
      "Do you want to play again? (enter goodbye if not) : \n",
      "human plays first = False, winner=-1\n",
      "you win!\n",
      "Do you want to play again? (enter goodbye if not) : \n",
      "human plays first = True, winner=0\n",
      "Game drawn!\n",
      "Do you want to play again? (enter goodbye if not) : goodbye\n",
      "{'computer': 3, 'drawn': 4, 'human': 4}\n",
      "percentage of human wins:  36.36363636363637\n"
     ]
    }
   ],
   "source": [
    "#d: \n",
    "scores ={'computer':0, 'drawn':0, 'human':0}\n",
    "hpf = True # added\n",
    "while True:\n",
    "    result = play_once(hpf)\n",
    "    if result == -1: \n",
    "        print('you win!')\n",
    "        scores['human'] +=1 \n",
    "    elif result == 0: \n",
    "        print('Game drawn!')\n",
    "        scores['drawn']+=1 \n",
    "    else: \n",
    "        print('I win!')\n",
    "        scores['computer']+=1 \n",
    "    choice = input('Do you want to play again? (enter goodbye if not) : ')\n",
    "    if choice == 'goodbye':\n",
    "        break\n",
    "    hpf = not hpf\n",
    "print(scores)\n",
    "print('percentage of human wins: ', scores['human']/sum(scores.values()) *100)"
   ]
  },
  {
   "cell_type": "markdown",
   "metadata": {},
   "source": [
    "# Q5:"
   ]
  },
  {
   "cell_type": "code",
   "execution_count": 26,
   "metadata": {},
   "outputs": [
    {
     "data": {
      "text/plain": [
       "'asgjnscusdhjxuygduh'"
      ]
     },
     "execution_count": 26,
     "metadata": {},
     "output_type": "execute_result"
    }
   ],
   "source": [
    "# eazy way:\n",
    "def delnonchars(snt):\n",
    "    s = 'QWERTYUIOPASDFGHJKLZXCVBNMqwertyuiopasdfghjklzxcvbnm' \n",
    "    for ch in snt:\n",
    "        if ch in s:\n",
    "            continue\n",
    "        snt = snt.replace(ch,'')\n",
    "    return snt\n",
    "\n",
    "delnonchars('a5sgjnsc86756usdhjxuyg!%$&duh')"
   ]
  },
  {
   "cell_type": "code",
   "execution_count": 32,
   "metadata": {},
   "outputs": [
    {
     "data": {
      "text/plain": [
       "'asgjnscusdhjxuygduh'"
      ]
     },
     "execution_count": 32,
     "metadata": {},
     "output_type": "execute_result"
    }
   ],
   "source": [
    "# using library re\n",
    "import re\n",
    "def delnonchars(s):\n",
    "    pattern = re.compile('[^a-zA-Z]')\n",
    "    return pattern.sub('',s)\n",
    "\n",
    "\n",
    "delnonchars('a5sgjnsc86756usdhjxuyg!%$&duh')"
   ]
  },
  {
   "cell_type": "markdown",
   "metadata": {},
   "source": [
    "# Q6:"
   ]
  },
  {
   "cell_type": "code",
   "execution_count": 34,
   "metadata": {},
   "outputs": [
    {
     "data": {
      "text/plain": [
       "21"
      ]
     },
     "execution_count": 34,
     "metadata": {},
     "output_type": "execute_result"
    }
   ],
   "source": [
    "def findmach(snt,w):\n",
    "    snt = snt.lower()\n",
    "    return snt.find(w)\n",
    "    \n",
    "findmach('Hello world, this is me talking to you.', 'me')    "
   ]
  },
  {
   "cell_type": "code",
   "execution_count": 35,
   "metadata": {},
   "outputs": [
    {
     "data": {
      "text/plain": [
       "6"
      ]
     },
     "execution_count": 35,
     "metadata": {},
     "output_type": "execute_result"
    }
   ],
   "source": [
    "findmach('Hello world, this is me talking to you.', 'wo')    "
   ]
  },
  {
   "cell_type": "code",
   "execution_count": 36,
   "metadata": {},
   "outputs": [
    {
     "data": {
      "text/plain": [
       "-1"
      ]
     },
     "execution_count": 36,
     "metadata": {},
     "output_type": "execute_result"
    }
   ],
   "source": [
    "findmach('Hello world, this is me talking to you.', 'ted')    "
   ]
  },
  {
   "cell_type": "code",
   "execution_count": 37,
   "metadata": {},
   "outputs": [
    {
     "data": {
      "text/plain": [
       "15"
      ]
     },
     "execution_count": 37,
     "metadata": {},
     "output_type": "execute_result"
    }
   ],
   "source": [
    "findmach('Hello world, this is me talking to you.', 'is')  "
   ]
  },
  {
   "cell_type": "markdown",
   "metadata": {},
   "source": [
    "# Q7:"
   ]
  },
  {
   "cell_type": "code",
   "execution_count": 44,
   "metadata": {},
   "outputs": [
    {
     "data": {
      "text/plain": [
       "2"
      ]
     },
     "execution_count": 44,
     "metadata": {},
     "output_type": "execute_result"
    }
   ],
   "source": [
    "def numofmatchs(snt, w):\n",
    "    count=0\n",
    "    i=temp=0\n",
    "    while -1<temp<len(snt):\n",
    "        temp = findmach(snt[i:],w)\n",
    "        if temp>0:\n",
    "            count+=1\n",
    "        i += len(w)+temp\n",
    "#         print(i)\n",
    "    return count\n",
    "\n",
    "numofmatchs('Hello world, this is me talking to you.', 'is')  "
   ]
  },
  {
   "cell_type": "code",
   "execution_count": 45,
   "metadata": {},
   "outputs": [
    {
     "data": {
      "text/plain": [
       "4"
      ]
     },
     "execution_count": 45,
     "metadata": {},
     "output_type": "execute_result"
    }
   ],
   "source": [
    "numofmatchs('Hello world, this is me talking to you.', 'o')  "
   ]
  },
  {
   "cell_type": "code",
   "execution_count": 46,
   "metadata": {},
   "outputs": [
    {
     "data": {
      "text/plain": [
       "0"
      ]
     },
     "execution_count": 46,
     "metadata": {},
     "output_type": "execute_result"
    }
   ],
   "source": [
    "numofmatchs('Hello world, this is me talking to you.', 'woo')  "
   ]
  },
  {
   "cell_type": "code",
   "execution_count": 47,
   "metadata": {},
   "outputs": [
    {
     "data": {
      "text/plain": [
       "1"
      ]
     },
     "execution_count": 47,
     "metadata": {},
     "output_type": "execute_result"
    }
   ],
   "source": [
    "numofmatchs('Hello world, this is me talking to you.', 'me')  "
   ]
  },
  {
   "cell_type": "markdown",
   "metadata": {},
   "source": [
    "# Q8:"
   ]
  },
  {
   "cell_type": "code",
   "execution_count": 49,
   "metadata": {},
   "outputs": [
    {
     "name": "stdout",
     "output_type": "stream",
     "text": [
      "John 16.5\n",
      "Vusi 17.25\n",
      "Jess 17.375\n",
      "Sarah 17.5625\n",
      "Zuki 12.2\n"
     ]
    }
   ],
   "source": [
    "students = [\n",
    "(\"John\", [20, 13]),\n",
    "(\"Vusi\", [16, 18, 17.75]),\n",
    "(\"Jess\", [20, 19.5, 20, 10]),\n",
    "(\"Sarah\", [18, 19.25, 15, 18]),\n",
    "(\"Zuki\", [20,10, 9, 7, 15])]\n",
    "\n",
    "for name,scores in students:\n",
    "    mean = 0\n",
    "    for point in scores:\n",
    "        mean += point\n",
    "    mean = mean/len(scores)\n",
    "    print(name, mean)\n"
   ]
  },
  {
   "cell_type": "code",
   "execution_count": 50,
   "metadata": {},
   "outputs": [
    {
     "name": "stdout",
     "output_type": "stream",
     "text": [
      "John 16.5\n",
      "Vusi 17.25\n",
      "Jess 17.375\n",
      "Sarah 17.5625\n",
      "Zuki 12.2\n"
     ]
    }
   ],
   "source": [
    "# not the answer:\n",
    "for name,scores in students:\n",
    "    mean = sum(scores)/len(scores)\n",
    "    print(name, mean)"
   ]
  },
  {
   "cell_type": "markdown",
   "metadata": {},
   "source": [
    "# Q9:"
   ]
  },
  {
   "cell_type": "code",
   "execution_count": 58,
   "metadata": {},
   "outputs": [
    {
     "name": "stdout",
     "output_type": "stream",
     "text": [
      "Enter the sentence: this sentence contains bad word! Shoot!\n",
      "Enter words to censor splited with , :bad,shoot\n",
      "Number of words:  6\n",
      "this sentence contains b*d word! s***t!\n"
     ]
    }
   ],
   "source": [
    "snt = input('Enter the sentence: ')\n",
    "words = input('Enter words to censor splited with , :')\n",
    "words = words.split(',')\n",
    "\n",
    "count = 1\n",
    "for char in snt:\n",
    "    if char==' ': count+=1\n",
    "print('Number of words: ', count)\n",
    "\n",
    "# clean the sentence\n",
    "snt = snt.lower()\n",
    "\n",
    "for w in words:\n",
    "    new_w = w[0]+'*'*(len(w)-2) + w[-1]\n",
    "    snt = snt.replace(w, new_w)\n",
    "    \n",
    "print(snt)\n",
    "        \n",
    "        \n"
   ]
  },
  {
   "cell_type": "code",
   "execution_count": null,
   "metadata": {},
   "outputs": [],
   "source": []
  },
  {
   "cell_type": "code",
   "execution_count": null,
   "metadata": {},
   "outputs": [],
   "source": []
  }
 ],
 "metadata": {
  "kernelspec": {
   "display_name": "Python 3",
   "language": "python",
   "name": "python3"
  },
  "language_info": {
   "codemirror_mode": {
    "name": "ipython",
    "version": 3
   },
   "file_extension": ".py",
   "mimetype": "text/x-python",
   "name": "python",
   "nbconvert_exporter": "python",
   "pygments_lexer": "ipython3",
   "version": "3.7.3"
  }
 },
 "nbformat": 4,
 "nbformat_minor": 2
}
