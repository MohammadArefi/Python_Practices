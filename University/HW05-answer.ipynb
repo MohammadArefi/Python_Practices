{
 "cells": [
  {
   "cell_type": "markdown",
   "metadata": {},
   "source": [
    "# Q1:"
   ]
  },
  {
   "cell_type": "code",
   "execution_count": 3,
   "metadata": {
    "tags": []
   },
   "outputs": [
    {
     "name": "stdout",
     "output_type": "stream",
     "text": [
      "4.0\n",
      "point down-left:(0,0)\n",
      "point down-right:(1,0)\n",
      "point up-right:(1,1)\n",
      "point up-left:(0,1)\n",
      "and the primeter is : 4.0\n",
      "10.418110475505253\n",
      "point down-left:(0,1)\n",
      "point down-right:(2,0)\n",
      "point up-right:(3,1)\n",
      "point up-left:(1,4)\n",
      "and the primeter is : 10.418110475505253\n"
     ]
    }
   ],
   "source": [
    "class point:\n",
    "    # متد سلف برای ذخیره سازی استفاده میشه و داده هاتونو ذخیره میکنه\n",
    "    # دوتا اندرلاین فراموش نشه\n",
    "    def __init__(self,x,y):\n",
    "        self.x = x\n",
    "        self.y = y\n",
    "    # کلاس زیر برای پرینت و متد اس تی از استفاده میشه\n",
    "    # با صدا زدن هر کدوم از این دو تا از کلاس زیر استفاده مبشه  و رشته مربوطه برگردونده میشه\n",
    "    # البته توی این تمرین از این متد استفاده نشده\n",
    "    def __str__(self):\n",
    "        return '('+str(self.x)+','+str(self.y)+')'\n",
    "        \n",
    "\n",
    "class quad:\n",
    "    # من اینجا 4 تا نقطه تعریف کردم ولی میشه فقط ایکس و ایگرگ بدید و نقطه رو توی همین متد تغریف کنید\n",
    "    def __init__(self, downLeft, downRight, upRight, upLeft):\n",
    "        self.dl = downLeft\n",
    "        self.dr = downRight\n",
    "        self.ur = upRight\n",
    "        self.ul = upLeft\n",
    "\n",
    "    #متدی برای اندازه گیری فاصله دو نقطه... میتونید ازین استفاده نکنید و\n",
    "    # مستقیم توی تابع پایین برای هر کدوم محاسبه رو انجام بدید\n",
    "    def _dist(p1,p2):\n",
    "        return ((p1.x-p2.x)**2 + (p1.y-p2.y)**2)**.5\n",
    "\n",
    "    def perimeter(self):\n",
    "        # برای صدا کردن تابع فاصله هم میتونید مثل پیزی که نوشته شده بنویسید هم به شکل زیر\n",
    "        # self._dist(self.dl,self.dr)\n",
    "\n",
    "        return (quad._dist(self.dl,self.dr) + quad._dist(self.dr, self.ur) +\n",
    "                 quad._dist(self.ur,self.ul) + quad._dist(self.ul, self.dl))\n",
    "\n",
    "    # باز هم مثل تابع پونت متدی برای پرینت و تبدیل به استرینگ\n",
    "    def __str__(self):\n",
    "        return ('point down-left:('+str(self.dl.x)+','+str(self.dl.y)+')\\n'+ \n",
    "                'point down-right:('+str(self.dr.x)+','+str(self.dr.y)+')\\n'+\n",
    "                'point up-right:('+str(self.ur.x)+','+str(self.ur.y)+')\\n'+\n",
    "                'point up-left:('+str(self.ul.x)+','+str(self.ul.y)+')\\n'+\n",
    "                'and the primeter is : '+str(quad.perimeter(self))\n",
    "        )\n",
    "    # میشه کلاس رو تعریف کرد ولی پَس گذاشت تا اینجا ازش استفاده نشه و بعدا تغریف بشه\n",
    "    # def area(self):\n",
    "    #     pass\n",
    "\n",
    "# چند مثال\n",
    "quad1 = quad(point(0,0), point(1,0), point(1,1), point(0,1))\n",
    "print(quad1.perimeter())\n",
    "print(quad1)\n",
    "quad2 = quad(point(0,1), point(2,0), point(3,1), point(1,4))\n",
    "print(quad2.perimeter())\n",
    "print(quad2)"
   ]
  },
  {
   "cell_type": "markdown",
   "metadata": {},
   "source": [
    "# Q2:"
   ]
  },
  {
   "cell_type": "code",
   "execution_count": 4,
   "metadata": {
    "tags": []
   },
   "outputs": [
    {
     "name": "stdout",
     "output_type": "stream",
     "text": [
      "point down-left:(0,-20)\n",
      "point down-right:(10,-20)\n",
      "point up-right:(10,0)\n",
      "point up-left:(0,0)\n",
      "and the primeter is : 60.0\n",
      "200\n",
      "60.0\n"
     ]
    }
   ],
   "source": [
    "# ارث بری از کلاس بالا\n",
    "# هر متدی که در کلاس پدر تعریف شده باشه توی این کلاس هم قابل استفاده است\n",
    "# متد ها به صورت هرمی فراخوانده مبشود پس اگر پرینت در این کلاس نیست به کلاس پدر میره و متد اون رو فراخوانی میکنه\n",
    "class rectangle(quad):\n",
    "    def __init__(self, corner, width, lenght):\n",
    "        # برای فراخوانی کلاس پدر نیاز به ساخت متغیر جدید نیست فقط صدا زدنش کافیه\n",
    "        quad.__init__(self,point(corner.x,corner.y-lenght),point(corner.x+width,corner.y-lenght),\n",
    "                        point(corner.x+width, corner.y), corner)\n",
    "        self.cor = corner\n",
    "        self.w = width\n",
    "        self.l = lenght\n",
    "\n",
    "    def area(self):\n",
    "        return self.w*self.l\n",
    "\n",
    "rec1 = rectangle(point(0,0), 10,20)\n",
    "str(rec1)\n",
    "print(rec1.area())\n",
    "print(rec1.perimeter())\n",
    "    "
   ]
  },
  {
   "cell_type": "code",
   "execution_count": 5,
   "metadata": {
    "tags": []
   },
   "outputs": [
    {
     "name": "stdout",
     "output_type": "stream",
     "text": [
      "point down-left:(50,11)\n",
      "point down-right:(54,11)\n",
      "point up-right:(54,20)\n",
      "point up-left:(50,20)\n",
      "and the primeter is : 26.0\n",
      "36\n",
      "26.0\n"
     ]
    }
   ],
   "source": [
    "rec2 = rectangle(point(50,20), 4,9)\n",
    "print(rec2)\n",
    "print(rec2.area())\n",
    "print(rec2.perimeter())\n",
    "    "
   ]
  },
  {
   "cell_type": "markdown",
   "metadata": {},
   "source": [
    "# Q3:"
   ]
  },
  {
   "cell_type": "code",
   "execution_count": 6,
   "metadata": {
    "tags": []
   },
   "outputs": [
    {
     "name": "stdout",
     "output_type": "stream",
     "text": [
      "point down-left:(1,1)\n",
      "point down-right:(3,1)\n",
      "point up-right:(3,3)\n",
      "point up-left:(1,3)\n",
      "and the primeter is : 8.0\n",
      "4\n"
     ]
    }
   ],
   "source": [
    "# این کلاس نیاز به تغریف هیچ چیز دیگری ندارد\n",
    "# فقط در متد شروع یا اینیت کلاس مستطیل را فراخوانی میکنید\n",
    "# تمام متدهای کلاس قبلی و قبلتر(کواد) قابل استفاده هستند\n",
    "class square(rectangle):\n",
    "    def __init__(self, corner, l):\n",
    "        rectangle.__init__(self,corner,l,l)\n",
    "        \n",
    "sq1 = square(point(1,3),2)\n",
    "print(sq1)\n",
    "print(sq1.area())"
   ]
  },
  {
   "cell_type": "code",
   "execution_count": 7,
   "metadata": {
    "tags": []
   },
   "outputs": [
    {
     "name": "stdout",
     "output_type": "stream",
     "text": [
      "point down-left:(70,259)\n",
      "point down-right:(111,259)\n",
      "point up-right:(111,300)\n",
      "point up-left:(70,300)\n",
      "and the primeter is : 164.0\n",
      "1681\n"
     ]
    }
   ],
   "source": [
    "sq2 = square(point(70,300),41)\n",
    "print(sq2)\n",
    "print(sq2.area())"
   ]
  },
  {
   "cell_type": "markdown",
   "metadata": {},
   "source": [
    "# Q4:"
   ]
  },
  {
   "cell_type": "code",
   "execution_count": 8,
   "metadata": {},
   "outputs": [],
   "source": [
    "\n",
    "def bubble_sort(L):\n",
    "    swap = False\n",
    "    while not swap:\n",
    "        # print('bubble sort: ' + str(L))\n",
    "        swap = True\n",
    "        for j in range(1, len(L)):\n",
    "            if L[j-1] > L[j]:\n",
    "                swap = False\n",
    "                temp = L[j]\n",
    "                L[j] = L[j-1]\n",
    "                L[j-1] = temp\n",
    "    return L\n",
    "\n",
    "def selection_sort(L):\n",
    "    suffixSt = 0\n",
    "    while suffixSt != len(L):\n",
    "        # print('selection sort: ' + str(L))\n",
    "        for i in range(suffixSt, len(L)):\n",
    "            if L[i] < L[suffixSt]:\n",
    "                L[suffixSt], L[i] = L[i], L[suffixSt]\n",
    "        suffixSt += 1\n",
    "    return L\n",
    " \n",
    "def merge(left, right):\n",
    "    result = []\n",
    "    i,j = 0,0\n",
    "    while i < len(left) and j < len(right):\n",
    "        if left[i] < right[j]:\n",
    "            result.append(left[i])\n",
    "            i += 1\n",
    "        else:\n",
    "            result.append(right[j])\n",
    "            j += 1\n",
    "    while (i < len(left)):\n",
    "        result.append(left[i])\n",
    "        i += 1\n",
    "    while (j < len(right)):\n",
    "        result.append(right[j])\n",
    "        j += 1\n",
    "    # print('merge: ' + str(left) + '&' + str(right) + ' to ' +str(result))\n",
    "    return result\n",
    "\n",
    "def merge_sort(L):\n",
    "    # print('merge sort: ' + str(L))\n",
    "    if len(L) < 2:\n",
    "        return L[:]\n",
    "    else:\n",
    "        middle = len(L)//2\n",
    "        left = merge_sort(L[:middle])\n",
    "        right = merge_sort(L[middle:])\n",
    "        return merge(left, right)\n",
    "    \n",
    "        "
   ]
  },
  {
   "cell_type": "code",
   "execution_count": 9,
   "metadata": {
    "tags": []
   },
   "outputs": [
    {
     "name": "stdout",
     "output_type": "stream",
     "text": [
      "bubble sort: 0 mins and 0.119 secs\n",
      "selection sort: 0 mins and 0.050 secs\n",
      "merge sort: 0 mins and 0.004 secs\n",
      "sorted : 0 mins and 0.000 secs\n"
     ]
    }
   ],
   "source": [
    "import random\n",
    "import time\n",
    "\n",
    "\n",
    "# این تمرین برای این است که زمان ها و مدل برنامه نویسی بیشتر جا بیوفتد\n",
    "# زمان بابل سرت یا مرتب سازی حبابی به دلیل این که زمان نمایی دارد به شدت به اندازه حساس است\n",
    "l = [random.random() for _ in range(1000)]\n",
    "t1 = time.time()\n",
    "bubble_sort(l[:])\n",
    "t2 = time.time()\n",
    "selection_sort(l[:])\n",
    "t3 = time.time()\n",
    "merge_sort(l)\n",
    "t4 = time.time()\n",
    "sorted(l)\n",
    "t5 = time.time()\n",
    "\n",
    "# حواستون باشه توی حط زیر تبدیل زمان از ثانیه به دقیقه و ثانیه انجام شده است\n",
    "print('bubble sort: %i mins and %.3f secs'%((t2-t1)//60, (t2-t1)%60))\n",
    "print('selection sort: %i mins and %.3f secs'%((t3-t2)//60, (t3-t2)%60))\n",
    "print('merge sort: %i mins and %.3f secs'%((t4-t3)//60, (t4-t3)%60))\n",
    "print('sorted : %i mins and %.3f secs'%((t5-t4)//60, (t5-t4)%60))"
   ]
  },
  {
   "cell_type": "code",
   "execution_count": 10,
   "metadata": {
    "tags": []
   },
   "outputs": [
    {
     "name": "stdout",
     "output_type": "stream",
     "text": [
      "bubble sort: 0 mins and 14.727 secs\n",
      "selection sort: 0 mins and 6.346 secs\n",
      "merge sort: 0 mins and 0.058 secs\n",
      "sorted : 0 mins and 0.001 secs\n"
     ]
    }
   ],
   "source": [
    "import random\n",
    "import time\n",
    "\n",
    "l = [random.random() for _ in range(10000)]\n",
    "t1 = time.time()\n",
    "bubble_sort(l[:])\n",
    "t2 = time.time()\n",
    "selection_sort(l[:])\n",
    "t3 = time.time()\n",
    "merge_sort(l)\n",
    "t4 = time.time()\n",
    "sorted(l)\n",
    "t5 = time.time()\n",
    "\n",
    "print('bubble sort: %i mins and %.3f secs'%((t2-t1)//60, (t2-t1)%60))\n",
    "print('selection sort: %i mins and %.3f secs'%((t3-t2)//60, (t3-t2)%60))\n",
    "print('merge sort: %i mins and %.3f secs'%((t4-t3)//60, (t4-t3)%60))\n",
    "print('sorted : %i mins and %.3f secs'%((t5-t4)//60, (t5-t4)%60))"
   ]
  },
  {
   "cell_type": "code",
   "execution_count": null,
   "metadata": {
    "tags": []
   },
   "outputs": [],
   "source": [
    "import random\n",
    "import time\n",
    "\n",
    "# اجرا نکنید چون زمان حبابی یه شدت زیاد است\n",
    "\n",
    "l = [random.random() for _ in range(100000)]\n",
    "t1 = time.time()\n",
    "bubble_sort(l[:])\n",
    "t2 = time.time()\n",
    "selection_sort(l[:])\n",
    "t3 = time.time()\n",
    "merge_sort(l)\n",
    "t4 = time.time()\n",
    "sorted(l)\n",
    "t5 = time.time()\n",
    "\n",
    "print('bubble sort: %i mins and %.3f secs'%((t2-t1)//60, (t2-t1)%60))\n",
    "print('selection sort: %i mins and %.3f secs'%((t3-t2)//60, (t3-t2)%60))\n",
    "print('merge sort: %i mins and %.3f secs'%((t4-t3)//60, (t4-t3)%60))\n",
    "print('sorted : %i mins and %.3f secs'%((t5-t4)//60, (t5-t4)%60))"
   ]
  },
  {
   "cell_type": "markdown",
   "metadata": {},
   "source": [
    "# Q5:"
   ]
  },
  {
   "cell_type": "code",
   "execution_count": 11,
   "metadata": {},
   "outputs": [],
   "source": [
    "def selection_sort(L):\n",
    "    suffixSt = 0\n",
    "    while suffixSt != len(L):\n",
    "        # این پرینت برای این است که ببینید چه اتفاقی در حال افتادن است\n",
    "        # برای فهم بهتر میتوانید یک لیست را دستی سرت کنید\n",
    "        print('selection sort: ' + str(L))\n",
    "        for i in range(suffixSt, len(L)):\n",
    "            if L[i] < L[suffixSt]:\n",
    "                L[suffixSt], L[i] = L[i], L[suffixSt]\n",
    "        suffixSt += 1\n",
    "    return L\n",
    " "
   ]
  },
  {
   "cell_type": "code",
   "execution_count": 12,
   "metadata": {
    "tags": []
   },
   "outputs": [
    {
     "name": "stdout",
     "output_type": "stream",
     "text": [
      "selection sort: ['mark', 'adam', 'sarah', 'andrew', 'sam', 'michael', 'tina']\n",
      "selection sort: ['adam', 'mark', 'sarah', 'andrew', 'sam', 'michael', 'tina']\n",
      "selection sort: ['adam', 'andrew', 'sarah', 'mark', 'sam', 'michael', 'tina']\n",
      "selection sort: ['adam', 'andrew', 'mark', 'sarah', 'sam', 'michael', 'tina']\n",
      "selection sort: ['adam', 'andrew', 'mark', 'michael', 'sarah', 'sam', 'tina']\n",
      "selection sort: ['adam', 'andrew', 'mark', 'michael', 'sam', 'sarah', 'tina']\n",
      "selection sort: ['adam', 'andrew', 'mark', 'michael', 'sam', 'sarah', 'tina']\n",
      "------------------------------\n",
      "selection sort: [152, 2, 600, 65, 256, 321, 852, 42]\n",
      "selection sort: [2, 152, 600, 65, 256, 321, 852, 42]\n",
      "selection sort: [2, 42, 600, 152, 256, 321, 852, 65]\n",
      "selection sort: [2, 42, 65, 600, 256, 321, 852, 152]\n",
      "selection sort: [2, 42, 65, 152, 600, 321, 852, 256]\n",
      "selection sort: [2, 42, 65, 152, 256, 600, 852, 321]\n",
      "selection sort: [2, 42, 65, 152, 256, 321, 852, 600]\n",
      "selection sort: [2, 42, 65, 152, 256, 321, 600, 852]\n"
     ]
    },
    {
     "data": {
      "text/plain": [
       "[2, 42, 65, 152, 256, 321, 600, 852]"
      ]
     },
     "execution_count": 12,
     "metadata": {},
     "output_type": "execute_result"
    }
   ],
   "source": [
    "l1 = ['mark','adam', 'sarah','andrew','sam','michael','tina']\n",
    "l2 = [152,2,600, 65, 256, 321, 852, 42]\n",
    "\n",
    "selection_sort(l1)\n",
    "print('-'*30)\n",
    "selection_sort(l2)"
   ]
  },
  {
   "cell_type": "markdown",
   "metadata": {},
   "source": [
    "# Q6:"
   ]
  },
  {
   "cell_type": "code",
   "execution_count": 13,
   "metadata": {
    "tags": []
   },
   "outputs": [
    {
     "name": "stdout",
     "output_type": "stream",
     "text": [
      "[22, 18, 29, 29, 21, 29, 29, 29, 15, 18, 14, 19, 25, 12, 23, 15, 11, 16, 10, 28]\n",
      "نوسانی\n"
     ]
    }
   ],
   "source": [
    "# میتونید از مرتب سازی استفاده کنید ولی حواستون باشه سُرت برعکس هم چک کنید تا\n",
    "#  مطمئن بشید حالت نزولی هم بررسی میشه\n",
    "# البته در این سوال ها بهتر هست به شکل زیر چک کنید زیرا به صرفه تر است و لیست تنها یک بار بررسی میشود\n",
    "\n",
    "def mono(l):\n",
    "    isMonoton = True\n",
    "    # برای نزولی\n",
    "    if l[0]>=l[1]:\n",
    "        for i in range(2,len(l)):\n",
    "            if l[i-1]<l[i]:\n",
    "                isMonoton = False\n",
    "                break\n",
    "    # برای صعودی\n",
    "    if l[0]<=l[1]:\n",
    "        for i in range(2,len(l)):\n",
    "            if l[i-1]>l[i]:\n",
    "                isMonoton = False\n",
    "                break\n",
    "    return isMonoton\n",
    "\n",
    "l = [int(random.uniform(10,30)) for _ in range(20)]\n",
    "print(l)\n",
    "monoton = mono(l)\n",
    "\n",
    "# استفاده از پرینت تنها در یک خط بااستفاده از شرط\n",
    "print('یکنوا') if monoton else print('نوسانی')\n",
    "# خط بالا جایگزین 4 خط پایین است\n",
    "# if monoton:\n",
    "#     print('یکنوا')\n",
    "# else: \n",
    "#     print('نوسانی')"
   ]
  },
  {
   "cell_type": "markdown",
   "metadata": {},
   "source": [
    "# More about class:"
   ]
  },
  {
   "cell_type": "code",
   "execution_count": null,
   "metadata": {},
   "outputs": [],
   "source": []
  },
  {
   "cell_type": "code",
   "execution_count": 17,
   "metadata": {
    "tags": []
   },
   "outputs": [
    {
     "name": "stdout",
     "output_type": "stream",
     "text": [
      "The mobile is: Apple\n",
      "The RAM is: 2\n",
      "The storage is: 64\n",
      "The model is: iPhone X\n",
      "The model is: 1\n",
      "The mobile is: Apple\n",
      "The RAM is: 2\n",
      "The storage is: 64\n",
      "The model is: iPhone X\n",
      "The model is: 2\n"
     ]
    }
   ],
   "source": [
    "class Computer():\n",
    "    def __init__(self, computer, ram, storage):\n",
    "        self.computer = computer\n",
    "        self.ram = ram\n",
    "        self.storage = storage\n",
    "    \n",
    "    def getram(self):\n",
    "        return self.ram\n",
    "\n",
    "# Class Mobile inherits Computer\n",
    "class Mobile(Computer):\n",
    "    def __init__(self, computer, ram, storage, model):\n",
    "        Computer.__init__(self, computer, ram, storage)\n",
    "        # سوپر جایگزین خط بالا است البته در این کلاس(کلاس درسی) نیاز به استفاده از آن نیست\n",
    "        # super().__init__(computer, ram, storage) # new way to inherit\n",
    "        self.model = model\n",
    "\n",
    "# نه تنها با استفاده از ارث بری میتوانید از متد ها استفاده کنید بلکه از متغیر ها هم میتوانید استفاده کنید\n",
    "# نمونه های پایین این موضوع را به خوبی میرسانند\n",
    "Apple = Mobile('Apple', 2, 64, 'iPhone X')\n",
    "print('The mobile is:', Apple.computer)\n",
    "print('The RAM is:', Apple.ram)\n",
    "print('The storage is:', Apple.storage)\n",
    "print('The model is:', Apple.model)"
   ]
  },
  {
   "cell_type": "code",
   "execution_count": 18,
   "metadata": {
    "tags": []
   },
   "outputs": [
    {
     "name": "stdout",
     "output_type": "stream",
     "text": [
      "I am a cat.\n",
      "Cat cannot swim.\n",
      "Cat cannot fly.\n",
      "Cat is a mammal.\n",
      "Cat is an animal.\n"
     ]
    }
   ],
   "source": [
    "class Animal:\n",
    "  def __init__(self, animalName):\n",
    "    print(animalName, 'is an animal.');\n",
    "\n",
    "# Mammal inherits Animal\n",
    "class Mammal(Animal):\n",
    "  def __init__(self, mammalName):\n",
    "    print(mammalName, 'is a mammal.')\n",
    "    super().__init__(mammalName)\n",
    "    \n",
    "# CannotFly inherits Mammal\n",
    "class CannotFly(Mammal):\n",
    "  def __init__(self, mammalThatCantFly):\n",
    "    print(mammalThatCantFly, \"cannot fly.\")\n",
    "    super().__init__(mammalThatCantFly)\n",
    "\n",
    "# CannotSwim inherits Mammal\n",
    "class CannotSwim(Mammal):\n",
    "  def __init__(self, mammalThatCantSwim):\n",
    "    print(mammalThatCantSwim, \"cannot swim.\")\n",
    "    super().__init__(mammalThatCantSwim)\n",
    "\n",
    "# سوپر در کلاس هایی مانند کلاس زیر بسیار مورد استفاده است\n",
    "# کلاس هایی که از چند کلاس ارث میبرند\n",
    "# این مطلب هم اطلاعات اضافه است\n",
    "# Cat inherits CannotSwim and CannotFly\n",
    "class Cat(CannotSwim, CannotFly):\n",
    "  def __init__(self):\n",
    "    print('I am a cat.');\n",
    "    super().__init__('Cat')\n",
    "\n",
    "# به نوع پرینت توحه کنید\n",
    "# به طور هرمی کلاس ها فراخوانی میشوند و پرینت مربوط به هرکدام اجرا میشود\n",
    "# Driver code\n",
    "cat = Cat()\n",
    "# print('')\n",
    "# bat = CannotSwim('Bat')"
   ]
  },
  {
   "cell_type": "code",
   "execution_count": null,
   "metadata": {},
   "outputs": [],
   "source": []
  },
  {
   "cell_type": "code",
   "execution_count": 23,
   "metadata": {
    "tags": []
   },
   "outputs": [
    {
     "name": "stdout",
     "output_type": "stream",
     "text": [
      "googooli\n",
      "None\n"
     ]
    }
   ],
   "source": [
    "# کلاس های گت و ست برای اسن تعریف شده اند\n",
    "class Animal(object):\n",
    "    def __init__(self, age):\n",
    "        self.age = age\n",
    "        # اسم ابتدا خالی است و بعدا با یک متد تغریف میشود\n",
    "        self.name = None\n",
    "    def get_age(self):\n",
    "        return self.age\n",
    "    def get_name(self):\n",
    "        return self.name\n",
    "    def set_age(self, newage):\n",
    "        self.age = newage\n",
    "    def set_name(self, newname=\"\"):\n",
    "        self.name = newname\n",
    "    def __str__(self):\n",
    "        return \"animal:\"+str(self.name)+\":\"+str(self.age)\n",
    "\n",
    "# با این که دو کلاس تغریف شده زیر یکسان هستند اما دو قسمت متفاوت از مموری را به خود اختصاص داده اند\n",
    "animal1 = Animal(2)\n",
    "animal2 = Animal(2)\n",
    "# بیابراین با فراخوانی خط زیر مقدار فالس بر میگردد\n",
    "animal1 == animal2\n",
    "\n",
    "# اگر اسم را عوض کنید دیگر نان نیست\n",
    "animal2.set_name('googooli')\n",
    "print(animal2.name)\n",
    "print(animal1.name)"
   ]
  },
  {
   "cell_type": "code",
   "execution_count": null,
   "metadata": {},
   "outputs": [],
   "source": []
  },
  {
   "cell_type": "code",
   "execution_count": 24,
   "metadata": {
    "tags": []
   },
   "outputs": [
    {
     "name": "stdout",
     "output_type": "stream",
     "text": [
      "\n",
      "---- rabbit tests ----\n",
      "---- testing creating rabbits ----\n",
      "r1: rabbit:1\n",
      "r2: rabbit:2\n",
      "r3: rabbit:3\n",
      "r1 parent1: None\n",
      "r1 parent2: None\n",
      "---- testing rabbit addition ----\n",
      "r1: rabbit:1\n",
      "r2: rabbit:2\n",
      "r4: rabbit:4\n",
      "r4 parent1: rabbit:1\n",
      "r4 parent2: rabbit:2\n",
      "---- testing rabbit equality ----\n",
      "r3: rabbit:3\n",
      "r4: rabbit:4\n",
      "r5: rabbit:5\n",
      "r6: rabbit:6\n",
      "r5 parent1: rabbit:3\n",
      "r5 parent2: rabbit:4\n",
      "r6 parent1: rabbit:4\n",
      "r6 parent2: rabbit:3\n",
      "r5 and r6 have same parents? True\n",
      "r4 and r6 have same parents? False\n"
     ]
    }
   ],
   "source": [
    "# class rabbit inherits animal\n",
    "class Rabbit(Animal):\n",
    "    # a class variable, tag, shared across all instances\n",
    "    # این تگ اولین بار یک است اما با هر بار فراخوانی این کلاس در تابع اینیت مقدارش تغییر میکند\n",
    "    tag = 1\n",
    "    def __init__(self, age, parent1=None, parent2=None):\n",
    "        # ارث بری\n",
    "        Animal.__init__(self, age)\n",
    "        # پرنت ها هر کدام یک خرگوش هستند\n",
    "        self.parent1 = parent1\n",
    "        self.parent2 = parent2\n",
    "        # تعیین تگ برای هر خرگوش\n",
    "        self.rid = Rabbit.tag\n",
    "        # اضافه کردن مقدار تگ بعد از هربار فراخوانی\n",
    "        Rabbit.tag += 1\n",
    "\n",
    "    def get_rid(self):\n",
    "        # zfill used to add leading zeroes 001 instead of 1\n",
    "        return str(self.rid) #.zfill(3) # زدفیل برای اضافه کردن صفر به پشت کاراکتر است\n",
    "        # توی اسکایپ مثال زدم\n",
    "        # 00z or 001 or 002 or abc or 0ab\n",
    "\n",
    "    def get_parent1(self):\n",
    "        return self.parent1\n",
    "    def get_parent2(self):\n",
    "        return self.parent2\n",
    "\n",
    "    def __add__(self, other):\n",
    "        # این متد برای عمل زیر استفاده میشه\n",
    "        # r4 = r1+r2  یا پایینی\n",
    "        # r1.__add__(r2)\n",
    "        # r1 mishe self va r2 other\n",
    "        # این عمل برای هر دوی مثال های بالا صادق است\n",
    "        # returning object of same type as this class\n",
    "        return Rabbit(0, self, other)\n",
    "\n",
    "\n",
    "    def __eq__(self, other):\n",
    "        # متدی که برای == استفاده میشه\n",
    "        # compare the ids of self and other's parents\n",
    "        # don't care about the order of the parents\n",
    "        # the backslash tells python I want to break up my line\n",
    "        # بک اسلش برای این است که ادامه ی عملیات در خط بعد نوشته شود\n",
    "        # دو متغیر برای چک داریم یکی پدر مادر یکسان رو میسنجه یکی مقابل رو\n",
    "        # به خودتون و خواهر یا برادرتون فکر کنید\n",
    "        # ممکنه مادر شما برای شما پرنت 1 تغریف بشه ولی برای خواهرتون پرنت 2 تغریف نشه\n",
    "        parents_same = self.parent1.rid == other.parent1.rid \\ \n",
    "                       and self.parent2.rid == other.parent2.rid\n",
    "        parents_opposite = self.parent2.rid == other.parent1.rid \\\n",
    "                           and self.parent1.rid == other.parent2.rid\n",
    "        return parents_same or parents_opposite\n",
    "    def __str__(self):\n",
    "        return \"rabbit:\"+ self.get_rid()\n",
    "\n",
    "\n",
    "# به مثال های زیر و نتایجشون خوب دقت کنید\n",
    "print(\"\\n---- rabbit tests ----\")\n",
    "print(\"---- testing creating rabbits ----\")\n",
    "r1 = Rabbit(3)\n",
    "r2 = Rabbit(4)\n",
    "r3 = Rabbit(5)\n",
    "print(\"r1:\", r1)\n",
    "print(\"r2:\", r2)\n",
    "print(\"r3:\", r3)\n",
    "print(\"r1 parent1:\", r1.get_parent1())\n",
    "print(\"r1 parent2:\", r1.get_parent2())\n",
    "\n",
    "print(\"---- testing rabbit addition ----\")\n",
    "r4 = r1+r2   #  یا r1.__add__(r2)\n",
    "print(\"r1:\", r1)\n",
    "print(\"r2:\", r2)\n",
    "print(\"r4:\", r4)\n",
    "print(\"r4 parent1:\", r4.get_parent1())\n",
    "print(\"r4 parent2:\", r4.get_parent2())\n",
    "\n",
    "print(\"---- testing rabbit equality ----\")\n",
    "r5 = r3+r4\n",
    "r6 = r4+r3\n",
    "print(\"r3:\", r3)\n",
    "print(\"r4:\", r4)\n",
    "print(\"r5:\", r5)\n",
    "print(\"r6:\", r6)\n",
    "print(\"r5 parent1:\", r5.get_parent1())\n",
    "print(\"r5 parent2:\", r5.get_parent2())\n",
    "print(\"r6 parent1:\", r6.get_parent1())\n",
    "print(\"r6 parent2:\", r6.get_parent2())\n",
    "print(\"r5 and r6 have same parents?\", r5 == r6) # پرنت ها جا به جا ان ولی باید نتیحه درست باشه\n",
    "print(\"r4 and r6 have same parents?\", r4 == r6)"
   ]
  },
  {
   "cell_type": "code",
   "execution_count": null,
   "metadata": {},
   "outputs": [],
   "source": []
  }
 ],
 "metadata": {
  "kernelspec": {
   "display_name": "Python 3",
   "language": "python",
   "name": "python3"
  },
  "language_info": {
   "codemirror_mode": {
    "name": "ipython",
    "version": 3
   },
   "file_extension": ".py",
   "mimetype": "text/x-python",
   "name": "python",
   "nbconvert_exporter": "python",
   "pygments_lexer": "ipython3",
   "version": "3.7.3"
  }
 },
 "nbformat": 4,
 "nbformat_minor": 2
}
